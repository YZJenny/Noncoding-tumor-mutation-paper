{
 "cells": [
  {
   "cell_type": "code",
   "execution_count": 1,
   "metadata": {},
   "outputs": [],
   "source": [
    "%load_ext autoreload\n",
    "%autoreload 2"
   ]
  },
  {
   "cell_type": "code",
   "execution_count": 2,
   "metadata": {
    "collapsed": true
   },
   "outputs": [],
   "source": [
    "import numpy as np\n",
    "import pandas as pd\n",
    "import os\n",
    "import pyNBS as nbs\n",
    "import glob"
   ]
  },
  {
   "cell_type": "markdown",
   "metadata": {},
   "source": [
    "# Preprocess data"
   ]
  },
  {
   "cell_type": "code",
   "execution_count": 3,
   "metadata": {},
   "outputs": [
    {
     "name": "stdout",
     "output_type": "stream",
     "text": [
      "841\n"
     ]
    }
   ],
   "source": [
    "# Some old code...\n",
    "\n",
    "dirs=[\"survival\",\"network\"]\n",
    "for d in dirs:\n",
    "    if not os.path.exists(d):\n",
    "        os.makedirs(d)\n",
    "\n",
    "DIR4NBS=\"/cellar/data/users/wzhang1984/forNBS/\"\n",
    "\n",
    "id2gene={}\n",
    "maxid=0\n",
    "for line in open(DIR4NBS+\"Homo_sapiens.gene_info\").read().rstrip().split(\"\\n\")[1:]:\n",
    "    a=line.split(\"\\t\")\n",
    "    id2gene[a[1]]=a[2]\n",
    "    maxid=max(maxid,int(a[1]))\n",
    "\n",
    "gene2id={}\n",
    "for line in open(DIR4NBS+\"gene2id.txt\").read().rstrip().split(\"\\n\"):\n",
    "    a=line.split(\"\\t\")\n",
    "    gene2id[a[0]]=a[1]\n",
    "\n",
    "\n",
    "id2hallmark={}\n",
    "for line in open(DIR4NBS+\"hallmarks.txt\").read().rstrip().split(\"\\n\"):\n",
    "    a=line.split(\"\\t\")\n",
    "    if len(a)>1:\n",
    "        for ID in a[2:]:\n",
    "            if not ID in id2hallmark:\n",
    "                id2hallmark[ID]={}\n",
    "            id2hallmark[ID][a[0].split(\"|\")[1]]=1\n",
    "\n",
    "for line in open(DIR4NBS+\"oncogene_tsg.txt\").read().rstrip().split(\"\\n\"):\n",
    "    a=line.split(\"\\t\")\n",
    "    if a[0] in gene2id:\n",
    "        ID=gene2id[a[0]]\n",
    "        if ID not in id2hallmark:\n",
    "            id2hallmark[ID]={}\n",
    "        id2hallmark[ID][a[1]]=1\n",
    "\n",
    "rearrangements_fns=glob.glob(DIR4NBS+\"rearrangements_*.txt\")\n",
    "for fn in rearrangements_fns:\n",
    "    for line in open(fn).read().rstrip().split(\"\\n\"):\n",
    "        a=line.split(\"\\t\")\n",
    "        anno=fn.split(\"/\")[-1].split(\".\")[0]\n",
    "        g_list=a[0].split(\",\")\n",
    "        g_list.extend(a[1].split(\",\"))\n",
    "        for g in g_list:\n",
    "            if g in gene2id:\n",
    "                ID=gene2id[g]\n",
    "                if ID not in id2hallmark:\n",
    "                    id2hallmark[ID]={}\n",
    "                id2hallmark[ID][anno]=1\n",
    "\n",
    "for line in open(DIR4NBS+\"cancerPredispositionGenes.txt\").read().rstrip().split(\"\\n\"):\n",
    "    a=line.split(\"\\t\")\n",
    "    if a[0] in gene2id:\n",
    "        ID=gene2id[a[0]]\n",
    "        if ID not in id2hallmark:\n",
    "            id2hallmark[ID]={}\n",
    "        id2hallmark[ID][\"predisposition\"]=1\n",
    "\n",
    "whitelist=set()\n",
    "for line in open('../rnaseq_eQTL_merge50_c35/whitelist.txt').read().rstrip().split('\\n'):\n",
    "    [gene,gid]=line.split('|')\n",
    "    whitelist.add(gene)\n",
    "\n",
    "pat2mut={}\n",
    "pat2mut_source={}\n",
    "gene2score={}\n",
    "gene2og_tsg={}\n",
    "for line in open('../rnaseq_eQTL_merge50_c35/summarize_muts2info_min.txt').read().rstrip().split('\\n')[1:]:\n",
    "    a=line.split('\\t')\n",
    "    gene=a[0]\n",
    "    gene2score[gene]=float(a[-1])\n",
    "    gene2og_tsg[gene]=a[1]\n",
    "\n",
    "mut2pat={}\n",
    "pats=set()\n",
    "for line in open('../rnaseq_eQTL_merge50_c35/summarize_muts4oncoprinter.txt').read().rstrip().split('\\n')[1:]:\n",
    "    a=line.split('\\t')\n",
    "    pat=a[0]\n",
    "    pats.add(pat)\n",
    "    if len(a)==1:\n",
    "        continue\n",
    "    if pat not in pat2mut:\n",
    "        pat2mut[pat]={}\n",
    "        pat2mut_source[pat]=set()\n",
    "    gene=a[1]\n",
    "    if gene not in whitelist:\n",
    "        continue\n",
    "    if gene not in gene2score:\n",
    "        continue\n",
    "    if gene not in mut2pat:\n",
    "        mut2pat[gene]=[set(),set(),'']\n",
    "    if gene2score[gene]>0:\n",
    "        mut2pat[gene][2]='up'\n",
    "        if (gene2og_tsg[gene]=='Oncogene' and a[3]=='MISSENSE') or a[2]=='AMP':\n",
    "            if gene not in pat2mut[pat]:\n",
    "                pat2mut[pat][gene]=set()\n",
    "            pat2mut[pat][gene].add('cds\\tup')\n",
    "            pat2mut_source[pat].add(gene+'|cds')\n",
    "            mut2pat[gene][0].add(pat)\n",
    "        if a[2]=='UP':\n",
    "            if gene not in pat2mut[pat]:\n",
    "                pat2mut[pat][gene]=set()\n",
    "            pat2mut[pat][gene].add('nc\\tup')\n",
    "            pat2mut_source[pat].add(gene+'|ncmut')\n",
    "            mut2pat[gene][1].add(pat)\n",
    "    elif gene2score[gene]<0:\n",
    "        mut2pat[gene][2]='down'\n",
    "        if a[3]=='TRUNC' or a[3]=='MISSENSE' or a[2]=='HOMDEL':\n",
    "            if gene not in pat2mut[pat]:\n",
    "                pat2mut[pat][gene]=set()\n",
    "            pat2mut[pat][gene].add('cds\\tdown')\n",
    "            pat2mut_source[pat].add(gene+'|cds')\n",
    "            mut2pat[gene][0].add(pat)\n",
    "        if a[2]=='DOWN':\n",
    "            if gene not in pat2mut[pat]:\n",
    "                pat2mut[pat][gene]=set()\n",
    "            pat2mut[pat][gene].add('nc\\tdown')\n",
    "            pat2mut_source[pat].add(gene+'|ncmut')\n",
    "            mut2pat[gene][1].add(pat)\n",
    "\n",
    "print len(pats)\n",
    "line_out='gene\\tmut_c\\tmut_nc\\tintersect\\tunion\\tup_down\\thallmarks\\n'\n",
    "for g in mut2pat:\n",
    "    mut_c=mut2pat[g][0]\n",
    "    mut_nc=mut2pat[g][1]\n",
    "    hallmarks=''\n",
    "    if g in gene2id and gene2id[g] in id2hallmark:\n",
    "        hallmarks=', '.join(id2hallmark[gene2id[g]])\n",
    "    line_out+='{}\\t{}\\t{}\\t{}\\t{}\\t{}\\t{}\\n'.format(g,float(len(mut_c-mut_nc))/len(pats),\n",
    "                                                float(len(mut_nc-mut_c))/len(pats),\n",
    "                                                float(len(mut_c&mut_nc))/len(pats),\n",
    "                                                float(len(mut_c|mut_nc))/len(pats),mut2pat[g][2],hallmarks)\n",
    "open('./network/FI_id_mut2n.noa','wb').write(line_out)\n",
    "\n",
    "pat2batch={}\n",
    "\n",
    "for line in open(\"../pat2clin4surv.txt\").read().rstrip().split(\"\\n\")[1:]:\n",
    "    a=line.split(\"\\t\")\n",
    "    pat2batch[a[0]]=[a[0].split(\"-\")[1],a[1].upper()]\n",
    "\n",
    "\n",
    "line_pat=\"\"\n",
    "disease2count={}\n",
    "for pat in sorted(pat2mut):\n",
    "    pat_short=pat[:12]\n",
    "    if pat_short==\"TCGA-FF-8046\":\n",
    "        pat2batch[pat_short]=[pat_short.split(\"-\")[1],\"DLBC\"]\n",
    "    line_pat+=\"\\t\".join([pat,pat2batch[pat_short][0],pat2batch[pat_short][1],\n",
    "                         str(len(pat2mut[pat])),\",\".join(pat2mut_source[pat])])+\"\\n\"\n",
    "    if not pat2batch[pat_short][1] in disease2count:\n",
    "        disease2count[pat2batch[pat_short][1]]=0\n",
    "    disease2count[pat2batch[pat_short][1]]+=1\n",
    "\n",
    "open(\"pat2mut_pat.txt\",\"w\").write(line_pat)\n",
    "\n",
    "open(\"disease2count.txt\",\"w\").write(\"\\n\".join([i+\"\\t\"+str(disease2count[i]) for i in disease2count]))\n",
    "\n",
    "line_out=''\n",
    "for pat in pat2mut:\n",
    "    for gene in pat2mut[pat]:\n",
    "        for anno in pat2mut[pat][gene]:\n",
    "            line_out+='{}\\t{}\\t{}\\n'.format(pat[:12],gene,anno)\n",
    "open('pat2mut.txt','wb').write(line_out)"
   ]
  },
  {
   "cell_type": "markdown",
   "metadata": {},
   "source": [
    "# Create Personalized PageRank matrix"
   ]
  },
  {
   "cell_type": "code",
   "execution_count": 4,
   "metadata": {},
   "outputs": [
    {
     "name": "stdout",
     "output_type": "stream",
     "text": [
      "* Loading PPI...\n",
      "\t- Edges: 228919\n",
      "\t- Nodes: 12175\n",
      "* Removing self-loops, multi-edges, and restricting to largest connected component...\n",
      "\t- Largest CC Edges: 228827\n",
      "\t- Largest CC Nodes: 12033\n",
      "* Saving updated node list to file...\n"
     ]
    }
   ],
   "source": [
    "file_name = '/cellar/data/users/wzhang1984/forNBS/FIsInGene_031516_with_annotations.txt'\n",
    "network_output_dir = 'FI_prop'\n",
    "network, gene2index=nbs.load_network(file_name,network_output_dir)"
   ]
  },
  {
   "cell_type": "code",
   "execution_count": 5,
   "metadata": {
    "collapsed": true
   },
   "outputs": [],
   "source": [
    "# It takes a long time to compute the inverse matrix. But it only has to be done once.\n",
    "\n",
    "# rst_prob = 0.5\n",
    "\n",
    "# PPR = nbs.create_ppr_matrix(network,rst_prob,network_output_dir)"
   ]
  },
  {
   "cell_type": "markdown",
   "metadata": {},
   "source": [
    "# Load PPR matrix"
   ]
  },
  {
   "cell_type": "code",
   "execution_count": 36,
   "metadata": {
    "collapsed": true
   },
   "outputs": [],
   "source": [
    "network_output_dir = 'FI_prop'\n",
    "\n",
    "PPR = np.load('{}/ppr_0.5.npy'.format(network_output_dir))"
   ]
  },
  {
   "cell_type": "markdown",
   "metadata": {},
   "source": [
    "# Network propagation"
   ]
  },
  {
   "cell_type": "code",
   "execution_count": 37,
   "metadata": {},
   "outputs": [
    {
     "name": "stdout",
     "output_type": "stream",
     "text": [
      "\t- Genes in adjacency matrix: 181\n",
      "* Saving patient list to file...\n"
     ]
    }
   ],
   "source": [
    "output_dir = network_output_dir\n",
    "file_name = 'pat2mut.txt'\n",
    "mutation_profile, pat2index = nbs.load_mutation(file_name,output_dir,gene2index)"
   ]
  },
  {
   "cell_type": "code",
   "execution_count": 38,
   "metadata": {},
   "outputs": [
    {
     "name": "stdout",
     "output_type": "stream",
     "text": [
      "Finish propagating the data...\n"
     ]
    }
   ],
   "source": [
    "pat_diff = nbs.run_diffusion_PPR(PPR,mutation_profile)\n",
    "\n",
    "# write propagated network on hard disk\n",
    "with open('{}/prop_pat_mut.npy'.format(output_dir),'w') as file_handle:\n",
    "    np.save(file_handle,pat_diff)\n",
    "\n",
    "print 'Finish propagating the data...'"
   ]
  },
  {
   "cell_type": "markdown",
   "metadata": {},
   "source": [
    "# Clustering"
   ]
  },
  {
   "cell_type": "code",
   "execution_count": 39,
   "metadata": {
    "collapsed": true
   },
   "outputs": [],
   "source": [
    "M_prop = np.load('FI_prop/prop_pat_mut.npy')\n",
    "with open('FI_prop/index_genes') as file_handle:\n",
    "    genes = [a[1] for a in [line.split() for line in file_handle.read().splitlines()]]\n",
    "with open('FI_prop/index_patients') as file_handle:\n",
    "    pats = [a[1] for a in [line.split() for line in file_handle.read().splitlines()]]\n",
    "M_prop=pd.DataFrame(data=M_prop,index=pats,columns=genes)"
   ]
  },
  {
   "cell_type": "code",
   "execution_count": 40,
   "metadata": {
    "collapsed": true
   },
   "outputs": [],
   "source": [
    "M_prop_pca, pca_components, explained_variance_ratio = nbs.run_pca(M_prop)"
   ]
  },
  {
   "cell_type": "code",
   "execution_count": 41,
   "metadata": {
    "collapsed": true
   },
   "outputs": [],
   "source": [
    "explained_variance_ratio.tofile('explained_variance_ratio.txt',sep='\\n')"
   ]
  },
  {
   "cell_type": "code",
   "execution_count": 42,
   "metadata": {},
   "outputs": [
    {
     "data": {
      "text/plain": [
       "0.77188449815733662"
      ]
     },
     "execution_count": 42,
     "metadata": {},
     "output_type": "execute_result"
    }
   ],
   "source": [
    "explained_variance_ratio[:70].sum()"
   ]
  },
  {
   "cell_type": "code",
   "execution_count": 55,
   "metadata": {
    "collapsed": true
   },
   "outputs": [],
   "source": [
    "labels = nbs.run_clustering_mp(M_prop_pca.iloc[:,:70], 10, nbs.run_SpectralClustering)"
   ]
  },
  {
   "cell_type": "code",
   "execution_count": 56,
   "metadata": {},
   "outputs": [
    {
     "data": {
      "text/plain": [
       "0    217\n",
       "1     86\n",
       "7     80\n",
       "8     77\n",
       "9     66\n",
       "6     66\n",
       "2     62\n",
       "3     61\n",
       "5     57\n",
       "4     49\n",
       "Name: K10, dtype: int64"
      ]
     },
     "execution_count": 56,
     "metadata": {},
     "output_type": "execute_result"
    }
   ],
   "source": [
    "labels.K10.value_counts()"
   ]
  },
  {
   "cell_type": "markdown",
   "metadata": {},
   "source": [
    "# Survival analysis"
   ]
  },
  {
   "cell_type": "code",
   "execution_count": 102,
   "metadata": {},
   "outputs": [
    {
     "data": {
      "text/plain": [
       "0"
      ]
     },
     "execution_count": 102,
     "metadata": {},
     "output_type": "execute_result"
    }
   ],
   "source": [
    "nbs.run_coxph('../pat2clin4surv.txt', labels, 'survival/')"
   ]
  },
  {
   "cell_type": "markdown",
   "metadata": {},
   "source": [
    "# Subnetworks"
   ]
  },
  {
   "cell_type": "code",
   "execution_count": 103,
   "metadata": {},
   "outputs": [
    {
     "name": "stdout",
     "output_type": "stream",
     "text": [
      "Finish ttest\n",
      "Finish Fisher exact test\n",
      "Summarizing subtype signatures\n",
      "Summarizing subnetworks\n"
     ]
    },
    {
     "data": {
      "text/plain": [
       "0"
      ]
     },
     "execution_count": 103,
     "metadata": {},
     "output_type": "execute_result"
    }
   ],
   "source": [
    "M = pd.DataFrame(data=mutation_profile,index=pats,columns=genes)\n",
    "K = labels.loc[:,'K10']\n",
    "test_n_processes = 24\n",
    "pat2mut_fn = 'pat2mut.txt'\n",
    "network_fn = '/cellar/data/users/wzhang1984/forNBS/FIsInGene_031516_with_annotations.txt'\n",
    "output_dir = 'network'\n",
    "ttest_fdr_cut = 0.3\n",
    "\n",
    "# nbs.subnetwork_wrapper(M.loc[:,sorted(M.columns & whitelist)], M_prop.loc[:,sorted(M_prop.columns & whitelist)], K, \n",
    "#                        test_n_processes, pat2mut_fn, network_fn, output_dir, ttest_fdr_cut)\n",
    "nbs.subnetwork_wrapper(M, M_prop, K, \n",
    "                       test_n_processes, pat2mut_fn, network_fn, output_dir, ttest_fdr_cut)"
   ]
  },
  {
   "cell_type": "markdown",
   "metadata": {},
   "source": [
    "# postProcess"
   ]
  },
  {
   "cell_type": "code",
   "execution_count": 104,
   "metadata": {
    "collapsed": true
   },
   "outputs": [],
   "source": [
    "# Compare subtypes and tissues\n",
    "\n",
    "pat2surv=pd.read_table('survival/pat2surv2labels.txt',index_col=0)\n",
    "subtype2disease=pat2surv.set_index(['K10','DISEASE'])\n",
    "subtype2disease['counter']=1\n",
    "subtype2disease.counter.groupby(level=[1, 0]).sum().unstack().to_csv('subtype2disease.txt',sep='\\t')"
   ]
  },
  {
   "cell_type": "code",
   "execution_count": 109,
   "metadata": {},
   "outputs": [
    {
     "name": "stdout",
     "output_type": "stream",
     "text": [
      "2\n",
      "3\n",
      "4\n",
      "5\n",
      "6\n",
      "7\n",
      "8\n",
      "9\n"
     ]
    }
   ],
   "source": [
    "# Trace the hierarchy of clustering\n",
    "\n",
    "nPats_cut=11\n",
    "\n",
    "pat2surv=pd.read_table('survival/pat2surv2labels.txt',index_col=0)\n",
    "K2pat={}\n",
    "for index,row in pat2surv.iterrows():\n",
    "    pat=index\n",
    "    for k in range(2,11):\n",
    "        column='K{}'.format(k)\n",
    "        if k not in K2pat:\n",
    "            K2pat[k]={}\n",
    "        subtype=str(row[column])\n",
    "        if subtype not in K2pat[k]:\n",
    "            K2pat[k][subtype]=set()\n",
    "        K2pat[k][subtype].add(pat)        \n",
    "\n",
    "line_out=''\n",
    "line_sif='subtype1\\tsubtype2\\tnPats\\n'\n",
    "for k in sorted(K2pat.keys()[:-1]):\n",
    "    print k\n",
    "    line_out+='\\n'+str(k)+'\\n'\n",
    "    for subtype_2 in sorted(K2pat[k+1].keys()):\n",
    "        line_out+='\\t'+subtype_2\n",
    "    line_out+='\\n'\n",
    "    for subtype in sorted(K2pat[k].keys()):\n",
    "        line_out+=subtype\n",
    "        for subtype_2 in sorted(K2pat[k+1].keys()):\n",
    "            nPats=len(K2pat[k][subtype] & K2pat[k+1][subtype_2])\n",
    "            line_out+='\\t{}'.format(nPats)\n",
    "            if nPats<nPats_cut:\n",
    "                continue\n",
    "            line_sif+='{}-{}\\t{}-{}\\t{}\\n'.format(k,subtype,k+1,subtype_2,nPats)\n",
    "        line_out+='\\n'\n",
    "\n",
    "open('hierarchy.txt','wb').write(line_out)\n",
    "open('hierarchy_network.txt','wb').write(line_sif)\n",
    "\n",
    "line_noa='subtype\\tnPats\\n'\n",
    "for k in sorted(K2pat.keys()):\n",
    "    for subtype in sorted(K2pat[k].keys()):\n",
    "        line_noa+='{}-{}\\t{}\\n'.format(k,subtype,len(K2pat[k][subtype]))\n",
    "open('hierarchy_network.noa','wb').write(line_noa)"
   ]
  },
  {
   "cell_type": "code",
   "execution_count": 106,
   "metadata": {
    "collapsed": true
   },
   "outputs": [],
   "source": [
    "# Create files for oncoprinter plot\n",
    "# Old code...\n",
    "\n",
    "'''\n",
    "To override the input of the OncoPrinter from cBioPortal\n",
    "non-coding mutation -> UP/DOWN EXP\n",
    "'''\n",
    "\n",
    "import os\n",
    "\n",
    "K=10\n",
    "cluster2g={}\n",
    "for cluster in range(K):\n",
    "    cluster2g[cluster]=set()\n",
    "    for line in open(\"network/subtype_{}.noa\".format(cluster)).read().splitlines()[1:]:\n",
    "        a=line.split(\"\\t\")\n",
    "        if float(a[3])<=0.1 and float(a[4])<=0.05:\n",
    "            cluster2g[cluster].add(a[0])\n",
    "\n",
    "pat2surv=pd.read_table('survival/pat2surv2labels.txt',index_col=0)\n",
    "\n",
    "gene2score={}\n",
    "gene2og_tsg={}\n",
    "for line in open('../rnaseq_eQTL_merge20/summarize_muts2info_min.txt').read().splitlines()[1:]:\n",
    "    a=line.split('\\t')\n",
    "    gene2score[a[0]]=float(a[-1])\n",
    "    gene2og_tsg[a[0]]=a[1]\n",
    "\n",
    "header='Sample\\tgene\\tAlteration\\tType\\n'\n",
    "cluster2line_out={}\n",
    "for line in open('../rnaseq_eQTL_merge20/summarize_muts4oncoprinter.txt').read().splitlines()[1:]:\n",
    "    a=line.split('\\t')\n",
    "    if len(a)==1:\n",
    "        continue\n",
    "    pat=a[0][:12]\n",
    "    if pat not in pat2surv.index:\n",
    "        continue\n",
    "    cluster=pat2surv.loc[pat,'K10']\n",
    "    if cluster not in cluster2line_out:\n",
    "        cluster2line_out[cluster]=header\n",
    "    g=a[1]\n",
    "    if g not in cluster2g[cluster]:\n",
    "        continue\n",
    "    Alteration=a[2]\n",
    "    Type=a[3]\n",
    "    if gene2score[g]>0:\n",
    "        if (gene2og_tsg[g]=='Oncogene' and a[3]=='MISSENSE') or a[2]=='AMP' or a[2]=='UP':\n",
    "            if Alteration=='AMP':\n",
    "                Alteration='UP'\n",
    "                Type='EXP'\n",
    "            elif Alteration=='UP':\n",
    "                Alteration='AMP'\n",
    "                Type='CNA'\n",
    "            cluster2line_out[cluster]+='{}\\t{}\\t{}\\t{}\\n'.format(pat,a[1],Alteration,Type)\n",
    "    elif gene2score[g]<0:\n",
    "        if a[3]=='TRUNC' or a[3]=='MISSENSE' or a[2]=='HOMDEL' or a[2]=='DOWN':\n",
    "            if Alteration=='HOMDEL':\n",
    "                Alteration='DOWN'\n",
    "                Type='EXP'\n",
    "            elif Alteration=='DOWN':\n",
    "                Alteration='HOMDEL'\n",
    "                Type='CNA'\n",
    "            cluster2line_out[cluster]+='{}\\t{}\\t{}\\t{}\\n'.format(pat,a[1],Alteration,Type)\n",
    "\n",
    "os.system('mkdir -p forOncoPrinter')\n",
    "\n",
    "for cluster in cluster2line_out:\n",
    "    open('./forOncoPrinter/{}.txt'.format(cluster),'wb').write(cluster2line_out[cluster])"
   ]
  },
  {
   "cell_type": "code",
   "execution_count": 107,
   "metadata": {},
   "outputs": [
    {
     "data": {
      "image/png": "[encoded data removed]",
      "text/plain": [
       "<matplotlib.figure.Figure at 0x7f19c3468910>"
      ]
     },
     "metadata": {},
     "output_type": "display_data"
    }
   ],
   "source": [
    "# plot affinity matrix\n",
    "\n",
    "from sklearn.cluster import SpectralClustering\n",
    "cluster = SpectralClustering(affinity='nearest_neighbors', n_clusters=10, n_neighbors=150, assign_labels='discretize')\n",
    "cluster.fit(M_prop_pca.iloc[:,:50])\n",
    "pat_affinity_matrix=pd.DataFrame(cluster.affinity_matrix_.todense(),index=M_prop_pca.index,columns=M_prop_pca.index)\n",
    "pat2surv=pd.read_table('survival/pat2surv2labels.txt',index_col=0)\n",
    "labels=pat2surv.loc[:,'K10']\n",
    "pat_affinity_matrix=pd.concat([pat_affinity_matrix,labels],join='inner',axis=1).sort_values('K10')\n",
    "pat_affinity_matrix=pd.concat([pat_affinity_matrix.T,labels],join='inner',axis=1).sort_values('K10')\n",
    "pat_affinity_matrix=pat_affinity_matrix.drop('K10',axis=1)\n",
    "\n",
    "%matplotlib inline\n",
    "import matplotlib.pyplot as plt\n",
    "import seaborn as sns\n",
    "ax = sns.heatmap(pat_affinity_matrix,xticklabels=False, yticklabels=False,cmap='Reds',square=True)\n",
    "plt.savefig('PatByPat_affinity_matrix.png', dpi=300)\n",
    "plt.show()\n",
    "pat_affinity_matrix[pat_affinity_matrix<0.5]=np.NAN\n",
    "\n",
    "pat_affinity_matrix.stack().to_csv('affinity_matrix_stack.txt', sep='\\t')"
   ]
  },
  {
   "cell_type": "code",
   "execution_count": 108,
   "metadata": {},
   "outputs": [
    {
     "name": "stdout",
     "output_type": "stream",
     "text": [
      "0\n",
      "1\n",
      "2\n",
      "3\n",
      "4\n",
      "5\n",
      "6\n",
      "7\n",
      "8\n",
      "9\n"
     ]
    }
   ],
   "source": [
    "ttest_fdr_cut=0.3\n",
    "fisher_p_cut=0.05\n",
    "\n",
    "for subtype in range(10):\n",
    "    print subtype\n",
    "    essential_genes=set()\n",
    "    gene2info={}\n",
    "    for line in open('network/subtype_{}.noa'.format(subtype)).read().splitlines()[1:]:\n",
    "        a=line.split('\\t')\n",
    "        ttest_fdr=float(a[3])\n",
    "        fisher_p=float(a[4])\n",
    "        if ttest_fdr<=ttest_fdr_cut:\n",
    "            if fisher_p<=fisher_p_cut:\n",
    "                essential_genes.add(a[0])\n",
    "            gene2info[a[0]]=[ttest_fdr,fisher_p]\n",
    "    header=True\n",
    "    line_out=set()\n",
    "    gene2line={}\n",
    "    for line in open('network/subtype_{}.txt'.format(subtype)).read().splitlines():\n",
    "        if header:\n",
    "            line_header=line+'\\n'\n",
    "            header=False\n",
    "            continue\n",
    "        a=line.split('\\t')\n",
    "        if (a[0] in essential_genes) and (a[1] in essential_genes):\n",
    "            line_out.add(line)\n",
    "        elif a[0] in essential_genes:\n",
    "            if a[1] not in gene2line:\n",
    "                gene2line[a[1]]=set()\n",
    "            gene2line[a[1]].add(line)\n",
    "        elif a[1] in essential_genes:\n",
    "            if a[0] not in gene2line:\n",
    "                gene2line[a[0]]=set()\n",
    "            gene2line[a[0]].add(line)\n",
    "    for gene in gene2line:\n",
    "        if len(gene2line[gene])>1:\n",
    "            for line in gene2line[gene]:\n",
    "                line_out.add(line)\n",
    "    open('network/subtype_{}_dist1.txt'.format(subtype),'wb').write(line_header+'\\n'.join(line_out)+'\\n'+\n",
    "                                                                    '\\n'.join(essential_genes))"
   ]
  },
  {
   "cell_type": "code",
   "execution_count": null,
   "metadata": {
    "collapsed": true
   },
   "outputs": [],
   "source": []
  },
  {
   "cell_type": "code",
   "execution_count": null,
   "metadata": {
    "collapsed": true
   },
   "outputs": [],
   "source": []
  },
  {
   "cell_type": "code",
   "execution_count": null,
   "metadata": {
    "collapsed": true
   },
   "outputs": [],
   "source": []
  },
  {
   "cell_type": "code",
   "execution_count": null,
   "metadata": {
    "collapsed": true
   },
   "outputs": [],
   "source": []
  },
  {
   "cell_type": "code",
   "execution_count": null,
   "metadata": {
    "collapsed": true
   },
   "outputs": [],
   "source": []
  },
  {
   "cell_type": "code",
   "execution_count": null,
   "metadata": {
    "collapsed": true
   },
   "outputs": [],
   "source": []
  },
  {
   "cell_type": "code",
   "execution_count": null,
   "metadata": {
    "collapsed": true
   },
   "outputs": [],
   "source": []
  },
  {
   "cell_type": "markdown",
   "metadata": {},
   "source": [
    "# Scratch"
   ]
  },
  {
   "cell_type": "code",
   "execution_count": 50,
   "metadata": {
    "scrolled": true
   },
   "outputs": [
    {
     "data": {
      "text/plain": [
       "GNAS       -0.269162\n",
       "MASP1      -0.195420\n",
       "RB1        -0.177179\n",
       "PLCL1      -0.172300\n",
       "MDM4       -0.165601\n",
       "NRAS       -0.156684\n",
       "BRCA2      -0.148157\n",
       "SF3B1      -0.139068\n",
       "GATA3      -0.112627\n",
       "KCNJ5      -0.111269\n",
       "NFE2L2     -0.109328\n",
       "UQCRH      -0.101081\n",
       "MET        -0.094014\n",
       "APC        -0.090913\n",
       "NCOA3      -0.089439\n",
       "FOXJ3      -0.084932\n",
       "IDH2       -0.083791\n",
       "SKP2       -0.079676\n",
       "ASXL1      -0.073474\n",
       "PDGFRA     -0.070655\n",
       "IDH1       -0.070428\n",
       "KIT        -0.066866\n",
       "CDKN2A     -0.065048\n",
       "TARS2      -0.063498\n",
       "GNAQ       -0.062875\n",
       "DNMT3A     -0.061988\n",
       "HRAS       -0.059441\n",
       "CRTC3      -0.057554\n",
       "STAG2      -0.053122\n",
       "MPL        -0.051881\n",
       "              ...   \n",
       "RBL2        0.057367\n",
       "HSPA6       0.063913\n",
       "TRPC5       0.065323\n",
       "FCGR2C      0.069759\n",
       "PEX19       0.070892\n",
       "RET         0.072321\n",
       "KIF1B       0.073590\n",
       "STK11       0.076579\n",
       "BCOR        0.079144\n",
       "FST         0.079595\n",
       "MAP3K1      0.079772\n",
       "GSTT2       0.082756\n",
       "CREBBP      0.085048\n",
       "PBRM1       0.091927\n",
       "AES         0.097235\n",
       "ZNF561      0.097435\n",
       "PIK3R1      0.110697\n",
       "IQCE        0.114690\n",
       "ACY1        0.121350\n",
       "STMN3       0.129720\n",
       "PIK3CA      0.129834\n",
       "HLA-DQA1    0.158716\n",
       "ARID1A      0.161706\n",
       "NF1         0.169040\n",
       "HLA-DRB1    0.177688\n",
       "DNMT1       0.186660\n",
       "MICB        0.187267\n",
       "BRAF        0.191380\n",
       "DGCR6       0.191534\n",
       "PRODH       0.235319\n",
       "Name: PC25, dtype: float64"
      ]
     },
     "execution_count": 50,
     "metadata": {},
     "output_type": "execute_result"
    }
   ],
   "source": [
    "pca_components.loc['PC25',].sort_values()"
   ]
  },
  {
   "cell_type": "code",
   "execution_count": 8,
   "metadata": {
    "scrolled": true
   },
   "outputs": [
    {
     "name": "stdout",
     "output_type": "stream",
     "text": [
      "0.5 50 5 discretize 0.059723780294\n",
      "0.5 50 10 discretize 0.11124940782\n",
      "0.5 50 20 discretize 0.096067803853\n",
      "0.5 50 50 discretize 0.00603874824817\n",
      "0.5 50 65 discretize 0.0300780550643\n",
      "0.5 50 85 discretize 0.00078479479213\n",
      "0.5 50 100 discretize 0.00257009295974\n",
      "0.5 50 125 discretize 0.000490369157581\n",
      "0.5 50 130 discretize 0.000739372630693\n",
      "0.5 50 150 discretize 0.000612675751755\n",
      "0.5 50 160 discretize 0.000470760545753\n",
      "0.5 50 165 discretize 0.000429903929332\n",
      "0.5 50 170 discretize 5.44486304097e-05\n",
      "0.5 50 175 discretize 0.00747779576872\n",
      "0.5 50 180 discretize 0.000855590041677\n",
      "0.5 50 200 discretize 0.00011722221769\n",
      "0.5 70 5 discretize 0.932137835135\n",
      "0.5 70 10 discretize 0.107486156195\n",
      "0.5 70 20 discretize 0.0945423223506\n",
      "0.5 70 50 discretize 0.0236283964103\n",
      "0.5 70 65 discretize 0.00602397977398\n",
      "0.5 70 85 discretize 0.00166884722406\n",
      "0.5 70 100 discretize 0.00587807182374\n",
      "0.5 70 125 discretize 0.000683403880041\n",
      "0.5 70 130 discretize 0.00161677223767\n",
      "0.5 70 150 discretize 0.000371047140976\n",
      "0.5 70 160 discretize 0.000618143229415\n",
      "0.5 70 165 discretize 7.79212409192e-05\n",
      "0.5 70 170 discretize 0.000119927580242\n",
      "0.5 70 175 discretize 0.000108594102892\n",
      "0.5 70 180 discretize 4.22280161006e-05\n",
      "0.5 70 200 discretize 0.000621918560886\n",
      "0.5 100 5 discretize 0.192116991809\n",
      "0.5 100 10 discretize 0.436792290072\n",
      "0.5 100 20 discretize 0.108812634406\n",
      "0.5 100 50 discretize 0.0723791117853\n",
      "0.5 100 65 discretize 0.0312750038339\n",
      "0.5 100 85 discretize 0.068882243233\n",
      "0.5 100 100 discretize 0.0169526150184\n",
      "0.5 100 125 discretize 0.000504947859172\n",
      "0.5 100 130 discretize 0.00279603476902\n",
      "0.5 100 150 discretize 0.000766067708776\n",
      "0.5 100 160 discretize 0.000545995554256\n",
      "0.5 100 165 discretize 0.000267611263432\n",
      "0.5 100 170 discretize 0.000180124793403\n",
      "0.5 100 175 discretize 0.00103144582307\n",
      "0.5 100 180 discretize 0.00432032880561\n",
      "0.5 100 200 discretize 0.00106573932584\n",
      "0.4 50 5 discretize 0.453367904119\n",
      "0.4 50 10 discretize 0.00897830726664\n",
      "0.4 50 20 discretize 0.103987589442\n",
      "0.4 50 50 discretize 0.0353586921882\n",
      "0.4 50 65 discretize 0.156785516229\n",
      "0.4 50 85 discretize 0.00154877050424\n",
      "0.4 50 100 discretize 0.000818139121697\n",
      "0.4 50 125 discretize 0.00150859864716\n",
      "0.4 50 130 discretize 0.00148417416683\n",
      "0.4 50 150 discretize 0.00019085140336\n",
      "0.4 50 160 discretize 0.002791361592\n",
      "0.4 50 165 discretize 8.00605741801e-05\n",
      "0.4 50 170 discretize 6.95167640445e-05\n",
      "0.4 50 175 discretize 0.00022920129155\n",
      "0.4 50 180 discretize 0.00026762768151\n",
      "0.4 50 200 discretize 0.0052776307277\n",
      "0.4 70 5 discretize 0.559967632218\n",
      "0.4 70 10 discretize 0.322908176841\n",
      "0.4 70 20 discretize 0.114681637562\n",
      "0.4 70 50 discretize 0.0569898389387\n",
      "0.4 70 65 discretize 0.0387904859108\n",
      "0.4 70 85 discretize 0.00264418868529\n",
      "0.4 70 100 discretize 0.00176805914954\n",
      "0.4 70 125 discretize 0.000180468005663\n",
      "0.4 70 130 discretize 8.69572094172e-05\n",
      "0.4 70 150 discretize 0.000253167291845\n",
      "0.4 70 160 discretize 0.000210109631485\n",
      "0.4 70 165 discretize 0.000200962048234\n",
      "0.4 70 170 discretize 0.0115131243817\n",
      "0.4 70 175 discretize 0.000942791866103\n",
      "0.4 70 180 discretize 5.26276301752e-05\n",
      "0.4 70 200 discretize 0.000407023105507\n",
      "0.4 100 5 discretize 0.632492673819\n",
      "0.4 100 10 discretize 0.510842858804\n",
      "0.4 100 20 discretize 0.21127339324\n",
      "0.4 100 50 discretize 0.0418447897618\n",
      "0.4 100 65 discretize 0.0243356926979\n",
      "0.4 100 85 discretize 0.0364593038992\n",
      "0.4 100 100 discretize 0.00308498987289\n",
      "0.4 100 125 discretize 0.0054200118215\n",
      "0.4 100 130 discretize 0.00229305748495\n",
      "0.4 100 150 discretize 0.000989130016779\n",
      "0.4 100 160 discretize 0.0019080993097\n",
      "0.4 100 165 discretize 0.000105440312717\n",
      "0.4 100 170 discretize 0.0079203852001\n",
      "0.4 100 175 discretize 0.0129599278794\n",
      "0.4 100 180 discretize 0.0084952492583\n",
      "0.4 100 200 discretize 0.19145677244\n",
      "0.3 50 5 discretize 0.0870988229409\n",
      "0.3 50 10 discretize 0.00866718669856\n",
      "0.3 50 20 discretize 0.15757485027\n",
      "0.3 50 50 discretize 0.0307736685556\n",
      "0.3 50 65 discretize 0.106309776545\n",
      "0.3 50 85 discretize 0.0101991468295\n",
      "0.3 50 100 discretize 0.00163932861963\n",
      "0.3 50 125 discretize 0.00946034111673\n",
      "0.3 50 130 discretize 0.00398448880295\n",
      "0.3 50 150 discretize 0.00125294359258\n",
      "0.3 50 160 discretize 0.000485105208897\n",
      "0.3 50 165 discretize 0.00221378629161\n",
      "0.3 50 170 discretize 0.00241921760551\n",
      "0.3 50 175 discretize 0.00360540690026\n",
      "0.3 50 180 discretize 0.000914078893612\n",
      "0.3 50 200 discretize 0.000800265141668\n",
      "0.3 70 5 discretize 0.866859458834\n",
      "0.3 70 10 discretize 0.330994423806\n",
      "0.3 70 20 discretize 0.13756948494\n",
      "0.3 70 50 discretize 0.00668177207838\n",
      "0.3 70 65 discretize 0.0132694377009\n",
      "0.3 70 85 discretize 0.0168973043825\n",
      "0.3 70 100 discretize 0.0868449712683\n",
      "0.3 70 125 discretize 0.0054165032285\n",
      "0.3 70 130 discretize 0.0010889261454\n",
      "0.3 70 150 discretize 0.0055280890817\n",
      "0.3 70 160 discretize 0.00445520255496\n",
      "0.3 70 165 discretize 0.0184233652483\n",
      "0.3 70 170 discretize 0.0270012561151\n",
      "0.3 70 175 discretize 0.037332211159\n",
      "0.3 70 180 discretize 0.0662111918232\n",
      "0.3 70 200 discretize 0.0528476381342\n",
      "0.3 100 5 discretize 0.0415173796475\n",
      "0.3 100 10 discretize 0.371440635616\n",
      "0.3 100 20 discretize 0.105013324257\n",
      "0.3 100 50 discretize 0.0909907239327\n",
      "0.3 100 65 discretize 0.0124951611079\n",
      "0.3 100 85 discretize 0.0330463106725\n",
      "0.3 100 100 discretize 0.000680960093603\n",
      "0.3 100 125 discretize 0.000926610172645\n",
      "0.3 100 130 discretize 0.0022344125932\n",
      "0.3 100 150 discretize 0.000414428489459\n",
      "0.3 100 160 discretize 0.0168880450745\n",
      "0.3 100 165 discretize 0.0207182866327\n",
      "0.3 100 170 discretize 0.0205328356125\n",
      "0.3 100 175 discretize 0.0553712669471\n",
      "0.3 100 180 discretize 0.0821557112864\n",
      "0.3 100 200 discretize 0.0122017153401\n",
      "0.2 50 5 discretize 0.00242481994111\n",
      "0.2 50 10 discretize 0.0105428042569\n",
      "0.2 50 20 discretize 0.106476753297\n",
      "0.2 50 50 discretize 0.0423559226623\n",
      "0.2 50 65 discretize 0.0367746978799\n",
      "0.2 50 85 discretize 0.0133107760046\n",
      "0.2 50 100 discretize 0.0256767659254\n",
      "0.2 50 125 discretize 0.00792601874375\n",
      "0.2 50 130 discretize 0.00486213018046\n",
      "0.2 50 150 discretize 0.0449862854819\n",
      "0.2 50 160 discretize 0.0350352886052\n",
      "0.2 50 165 discretize 0.0164958145404\n",
      "0.2 50 170 discretize 0.0162639504751\n",
      "0.2 50 175 discretize 0.00106242296042\n",
      "0.2 50 180 discretize 0.00814496239034\n",
      "0.2 50 200 discretize 0.0191615630233\n",
      "0.2 70 5 discretize 0.586075613851\n",
      "0.2 70 10 discretize 0.641469634839\n",
      "0.2 70 20 discretize 0.185669028814\n",
      "0.2 70 50 discretize 0.0617604192673\n",
      "0.2 70 65 discretize 0.0099264140107\n",
      "0.2 70 85 discretize 0.00869023620877\n",
      "0.2 70 100 discretize 0.00246471387637\n",
      "0.2 70 125 discretize 0.00341944318321\n",
      "0.2 70 130 discretize 0.0294138402614\n",
      "0.2 70 150 discretize 0.0386435466551\n",
      "0.2 70 160 discretize 0.0195247170608\n",
      "0.2 70 165 discretize 0.0178347216851\n",
      "0.2 70 170 discretize 0.027566072528\n",
      "0.2 70 175 discretize 0.0920634648168\n",
      "0.2 70 180 discretize 0.33765036979\n",
      "0.2 70 200 discretize 0.0129513529874\n",
      "0.2 100 5 discretize 0.110227241367\n",
      "0.2 100 10 discretize 0.360236888793\n",
      "0.2 100 20 discretize 0.080945544565\n",
      "0.2 100 50 discretize 0.0439797262243\n",
      "0.2 100 65 discretize 0.0168300606847\n",
      "0.2 100 85 discretize 0.0166408924593\n",
      "0.2 100 100 discretize 0.00994259016828\n",
      "0.2 100 125 discretize 0.00380514350217\n",
      "0.2 100 130 discretize 0.00318835556603\n",
      "0.2 100 150 discretize 0.00188861912982\n",
      "0.2 100 160 discretize 0.017189409459\n",
      "0.2 100 165 discretize 0.000757549905626\n",
      "0.2 100 170 discretize 0.00176052573839\n",
      "0.2 100 175 discretize 0.0130220256204\n",
      "0.2 100 180 discretize 0.090535337164\n",
      "0.2 100 200 discretize 0.046344490641\n"
     ]
    }
   ],
   "source": [
    "from sklearn.cluster import SpectralClustering\n",
    "from multiprocessing import Pool\n",
    "\n",
    "def run_SpectralClustering(args):\n",
    "    [propagated_profile_pca, n_clusters, gamma] = args[:3]\n",
    "    cluster = SpectralClustering(affinity='nearest_neighbors', n_clusters=n_clusters, n_init=10, \n",
    "                                 n_neighbors=n_neighbors, assign_labels=assign_labels)\n",
    "    cluster.fit(propagated_profile_pca)\n",
    "    return cluster.labels_\n",
    "\n",
    "def run_clustering_mp(propagated_profile_pca, maxK, func, n_neighbors, assign_labels):\n",
    "\n",
    "    n_processes = maxK-1\n",
    "    pool = Pool(processes=n_processes)\n",
    "    \n",
    "    args = zip([propagated_profile_pca]*(maxK-1),range(2,maxK+1), [n_neighbors]*(maxK-1),[assign_labels]*(maxK-1))\n",
    "    labels = pool.map(func, args)\n",
    "    \n",
    "    labels = pd.DataFrame(data=np.array(labels).T,index=propagated_profile_pca.index,\n",
    "                          columns=['K{}'.format(i) for i in range(2,maxK+1)])\n",
    "    \n",
    "    pool.close()\n",
    "    pool.join()\n",
    "    \n",
    "    return labels\n",
    "\n",
    "for rst_prob in [0.5,0.4]:\n",
    "    network_output_dir = 'FI_prop'\n",
    "    PPR = np.load('{}/ppr_{}.npy'.format(network_output_dir,rst_prob))\n",
    "    pat_diff = nbs.run_diffusion_PPR(PPR,mutation_profile)\n",
    "\n",
    "    output_dir = network_output_dir\n",
    "    # write propagated network on hard disk\n",
    "    with open('{}/prop_pat_mut.npy'.format(output_dir),'w') as file_handle:\n",
    "        np.save(file_handle,pat_diff)\n",
    "\n",
    "    M_prop = np.load('FI_prop/prop_pat_mut.npy')\n",
    "    with open('FI_prop/index_genes') as file_handle:\n",
    "        genes = [a[1] for a in [line.split() for line in file_handle.read().splitlines()]]\n",
    "    with open('FI_prop/index_patients') as file_handle:\n",
    "        pats = [a[1] for a in [line.split() for line in file_handle.read().splitlines()]]\n",
    "    M_prop=pd.DataFrame(data=M_prop,index=pats,columns=genes)\n",
    "    \n",
    "    M_prop_pca, pca_components, explained_variance_ratio = nbs.run_pca(M_prop)\n",
    "    for nPCs in [50,70,100]:\n",
    "        propagated_profile_pca=M_prop_pca.iloc[:,:nPCs]\n",
    "        for n_neighbors in [5,10,20,50,65,85,100,125,130,150,160,165,170,175,180,200]:\n",
    "            for assign_labels in ['discretize']:\n",
    "                cluster = SpectralClustering(affinity='nearest_neighbors', n_clusters=10, n_init=10, \n",
    "                                             n_neighbors=n_neighbors, assign_labels=assign_labels)\n",
    "                cluster.fit(propagated_profile_pca)\n",
    "                labels=cluster.labels_\n",
    "                labels = pd.DataFrame(data=np.array(labels).T,index=propagated_profile_pca.index, columns=['K10'])\n",
    "#                 labels = run_clustering_mp(propagated_profile_pca, 10, run_SpectralClustering, n_neighbors, \n",
    "#                                            assign_labels)\n",
    "                pat2surv_fn='../pat2clin4surv.txt'\n",
    "                output_dir='survival/'\n",
    "                os.system( 'mkdir -p ' + output_dir )\n",
    "                pat2surv = pd.read_table(pat2surv_fn,index_col=0)\n",
    "                pat2surv = pd.concat([pat2surv,labels],join='inner',axis=1)\n",
    "                pat2surv.to_csv('{}/pat2surv2labels.txt'.format(output_dir),sep='\\t')\n",
    "                os.system(\"Rscript label2coxph_simple.R {}\".format(output_dir))\n",
    "                score=1\n",
    "                for line in open('survival/coxph_FTest_survey.txt').read().splitlines():\n",
    "                    a=line.split('\\t')\n",
    "                    score=float(a[-1])\n",
    "                print rst_prob,nPCs,n_neighbors, assign_labels,score"
   ]
  },
  {
   "cell_type": "code",
   "execution_count": 32,
   "metadata": {},
   "outputs": [
    {
     "data": {
      "text/plain": [
       "0"
      ]
     },
     "execution_count": 32,
     "metadata": {},
     "output_type": "execute_result"
    }
   ],
   "source": [
    "os.system(\"Rscript label2coxph.R survival/\")"
   ]
  },
  {
   "cell_type": "code",
   "execution_count": null,
   "metadata": {
    "collapsed": true
   },
   "outputs": [],
   "source": []
  },
  {
   "cell_type": "code",
   "execution_count": 13,
   "metadata": {
    "collapsed": true
   },
   "outputs": [],
   "source": [
    "from sklearn.cluster import SpectralClustering\n",
    "cluster = SpectralClustering(affinity='nearest_neighbors', n_clusters=10, n_neighbors=175, assign_labels='discretize')\n",
    "cluster.fit(M_prop_pca.iloc[:,:100])\n",
    "pat_affinity_matrix=pd.DataFrame(cluster.affinity_matrix_.todense(),index=M_prop_pca.index,columns=M_prop_pca.index)\n",
    "labels = pd.DataFrame(data=np.array(cluster.labels_).T,index=M_prop_pca.index,columns=['K10'])\n",
    "pat_affinity_matrix=pd.concat([pat_affinity_matrix,labels],join='inner',axis=1).sort_values('K10')\n",
    "pat_affinity_matrix=pd.concat([pat_affinity_matrix.T,labels],join='inner',axis=1).sort_values('K10')\n",
    "pat_affinity_matrix=pat_affinity_matrix.drop('K10',axis=1)"
   ]
  },
  {
   "cell_type": "code",
   "execution_count": 18,
   "metadata": {},
   "outputs": [
    {
     "data": {
      "image/png": "[encoded data removed]",
      "text/plain": [
       "<matplotlib.figure.Figure at 0x7f0b6f84ef10>"
      ]
     },
     "metadata": {},
     "output_type": "display_data"
    }
   ],
   "source": [
    "%matplotlib inline\n",
    "import matplotlib.pyplot as plt\n",
    "import seaborn as sns\n",
    "ax = sns.heatmap(pat_affinity_matrix,xticklabels=False, yticklabels=False,cmap='Reds',square=True)"
   ]
  },
  {
   "cell_type": "code",
   "execution_count": null,
   "metadata": {
    "collapsed": true
   },
   "outputs": [],
   "source": []
  },
  {
   "cell_type": "code",
   "execution_count": null,
   "metadata": {
    "collapsed": true
   },
   "outputs": [],
   "source": []
  },
  {
   "cell_type": "code",
   "execution_count": null,
   "metadata": {
    "collapsed": true
   },
   "outputs": [],
   "source": []
  },
  {
   "cell_type": "code",
   "execution_count": null,
   "metadata": {
    "collapsed": true
   },
   "outputs": [],
   "source": []
  },
  {
   "cell_type": "code",
   "execution_count": null,
   "metadata": {
    "collapsed": true
   },
   "outputs": [],
   "source": []
  },
  {
   "cell_type": "markdown",
   "metadata": {},
   "source": [
    "# NBS based only on coding"
   ]
  },
  {
   "cell_type": "code",
   "execution_count": null,
   "metadata": {
    "collapsed": true
   },
   "outputs": [],
   "source": [
    "fn = 'pat2mut.txt'"
   ]
  },
  {
   "cell_type": "code",
   "execution_count": null,
   "metadata": {
    "collapsed": true
   },
   "outputs": [],
   "source": []
  },
  {
   "cell_type": "code",
   "execution_count": null,
   "metadata": {
    "collapsed": true
   },
   "outputs": [],
   "source": []
  },
  {
   "cell_type": "code",
   "execution_count": null,
   "metadata": {
    "collapsed": true
   },
   "outputs": [],
   "source": []
  },
  {
   "cell_type": "code",
   "execution_count": null,
   "metadata": {
    "collapsed": true
   },
   "outputs": [],
   "source": []
  },
  {
   "cell_type": "code",
   "execution_count": null,
   "metadata": {
    "collapsed": true
   },
   "outputs": [],
   "source": []
  },
  {
   "cell_type": "code",
   "execution_count": null,
   "metadata": {
    "collapsed": true
   },
   "outputs": [],
   "source": []
  },
  {
   "cell_type": "code",
   "execution_count": null,
   "metadata": {
    "collapsed": true
   },
   "outputs": [],
   "source": []
  },
  {
   "cell_type": "code",
   "execution_count": null,
   "metadata": {
    "collapsed": true
   },
   "outputs": [],
   "source": []
  },
  {
   "cell_type": "code",
   "execution_count": null,
   "metadata": {
    "collapsed": true
   },
   "outputs": [],
   "source": []
  },
  {
   "cell_type": "code",
   "execution_count": null,
   "metadata": {
    "collapsed": true
   },
   "outputs": [],
   "source": []
  },
  {
   "cell_type": "code",
   "execution_count": null,
   "metadata": {
    "collapsed": true
   },
   "outputs": [],
   "source": []
  }
 ],
 "metadata": {
  "kernelspec": {
   "display_name": "Python 2",
   "language": "python",
   "name": "python2"
  },
  "language_info": {
   "codemirror_mode": {
    "name": "ipython",
    "version": 2
   },
   "file_extension": ".py",
   "mimetype": "text/x-python",
   "name": "python",
   "nbconvert_exporter": "python",
   "pygments_lexer": "ipython2",
   "version": "2.7.13"
  }
 },
 "nbformat": 4,
 "nbformat_minor": 1
}
