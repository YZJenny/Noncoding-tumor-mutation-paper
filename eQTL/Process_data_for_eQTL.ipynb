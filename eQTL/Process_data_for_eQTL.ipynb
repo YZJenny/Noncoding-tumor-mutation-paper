{
 "cells": [
  {
   "cell_type": "code",
   "execution_count": 5,
   "metadata": {
    "collapsed": true
   },
   "outputs": [],
   "source": [
    "import numpy as np\n",
    "import pandas as pd\n",
    "import glob\n",
    "import pickle\n",
    "from scipy.stats import rankdata, norm\n",
    "import os"
   ]
  },
  {
   "cell_type": "markdown",
   "metadata": {},
   "source": [
    "# Parse expression and clinical data"
   ]
  },
  {
   "cell_type": "code",
   "execution_count": 2,
   "metadata": {
    "collapsed": true
   },
   "outputs": [],
   "source": [
    "# Patients with WGS data\n",
    "pats_15_ncm=set()\n",
    "pats_12_ncm=set()\n",
    "for line in open('../autoAnno_GeneHancer/TCGA2pat.txt').read().rstrip().split('\\n'):\n",
    "    a=line.split('\\t')\n",
    "    if a[-1]!='0':\n",
    "        pats_15_ncm.add(a[0][:15])\n",
    "        pats_12_ncm.add(a[0][:12])"
   ]
  },
  {
   "cell_type": "code",
   "execution_count": 3,
   "metadata": {
    "collapsed": true
   },
   "outputs": [],
   "source": [
    "hugo = set()\n",
    "entrez2hugo = {}\n",
    "with open('HUGO2entrez.txt') as f:\n",
    "    for line in f.read().rstrip().splitlines()[1:]:\n",
    "        row = line.split('\\t')\n",
    "        hugo.add(row[0])\n",
    "        if len(row)==2 and row[1]:\n",
    "            entrez2hugo[int(row[1])] = row[0]"
   ]
  },
  {
   "cell_type": "code",
   "execution_count": 4,
   "metadata": {
    "scrolled": true
   },
   "outputs": [
    {
     "name": "stdout",
     "output_type": "stream",
     "text": [
      "('brca', 99)\n",
      "('prad', 20)\n",
      "('coadread', 27)\n",
      "('blca', 23)\n",
      "('hnsc', 50)\n",
      "('sarc', 34)\n",
      "('lihc', 52)\n",
      "('kich', 49)\n",
      "('skcm', 38)\n",
      "('gbm', 34)\n",
      "('laml', 27)\n",
      "('luad', 50)\n",
      "('kirc', 41)\n",
      "('cesc', 20)\n",
      "('stad', 35)\n",
      "('kirp', 36)\n",
      "('thca', 48)\n",
      "('lusc', 50)\n",
      "('dlbc', 7)\n",
      "('ov', 24)\n",
      "('lgg', 19)\n"
     ]
    }
   ],
   "source": [
    "# Parse gene expression\n",
    "fns = glob.glob('/cellar/data/users/wzhang1984/cBioPortal/*/tcga/data_RNA_Seq_v2_expression_median.txt')\n",
    "dfs = []\n",
    "pat2disease_dfs = []\n",
    "for fn in fns:\n",
    "    disease = fn.split('/')[-3]\n",
    "    df = pd.read_table(fn, index_col=0)\n",
    "    entrez_list = df['Entrez_Gene_Id']\n",
    "    df.columns = df.columns.str[:15]\n",
    "    df = df.loc[:,df.columns.isin(pats_15_ncm)]\n",
    "    npats = len(df.columns)\n",
    "    if npats > 1:\n",
    "        pat2disease_df = pd.DataFrame(np.ones((1,npats)), index=[disease], columns=df.columns)\n",
    "        pat2disease_dfs.append(pat2disease_df)\n",
    "        print(disease, npats)\n",
    "        new_index = []\n",
    "        for i in range(len(df.index)):\n",
    "            hugo_i = df.index[i]\n",
    "            entrez_i = entrez_list[i]\n",
    "            if entrez_i in entrez2hugo:\n",
    "                new_index.append(entrez2hugo[entrez_i])\n",
    "            elif hugo_i in hugo:\n",
    "                new_index.append(hugo_i)\n",
    "            else:\n",
    "                new_index.append('null')\n",
    "        df.index = new_index\n",
    "        dfs.append(df)\n",
    "df_exp = pd.concat(dfs, axis=1)\n",
    "df_exp = df_exp.groupby(df_exp.index).median()\n",
    "df_exp.drop('null', axis=0, inplace=True)\n",
    "pat2disease_df = pd.concat(pat2disease_dfs, axis=1)\n",
    "pat2disease_df.fillna(0, inplace=True)"
   ]
  },
  {
   "cell_type": "code",
   "execution_count": 6,
   "metadata": {
    "collapsed": true,
    "scrolled": true
   },
   "outputs": [],
   "source": [
    "# Parse clinical to get patients' gender\n",
    "fns = glob.glob('/cellar/data/users/wzhang1984/cBioPortal/*/tcga/data_bcr_clinical_data_patient.txt')\n",
    "dfs = []\n",
    "for fn in fns:\n",
    "    disease = fn.split('/')[-3]\n",
    "    df = pd.read_table(fn, index_col=1, skiprows=4)\n",
    "    df.index = df.index.str[:12]\n",
    "    df = df.loc[df.index.isin(pats_12_ncm),:]\n",
    "    npats = len(df.index)\n",
    "    if npats > 0:\n",
    "        dfs.append(df)\n",
    "df_clin = pd.concat(dfs, axis=0)"
   ]
  },
  {
   "cell_type": "code",
   "execution_count": 7,
   "metadata": {
    "collapsed": true
   },
   "outputs": [],
   "source": [
    "# Create a file conatining global covariates (cancer types, race, gender)\n",
    "pat2disease_df.columns = pat2disease_df.columns.str[:12]\n",
    "pat2covarites_df = pd.concat([pat2disease_df.iloc[:-1,:], pd.DataFrame(df_clin.loc[:,'GENDER']).T])\n",
    "pat2covarites_df = pat2covarites_df.loc[:,pat2covarites_df.columns.isin(pat2disease_df.columns)]\n",
    "pat2covarites_df.loc['GENDER',pat2covarites_df.loc['GENDER',:]=='FEMALE'] = 1\n",
    "pat2covarites_df.loc['GENDER',pat2covarites_df.loc['GENDER',:]=='MALE'] = 0\n",
    "pat2covarites_df.fillna(0.5, inplace=True)\n",
    "pat2covarites_df = pat2covarites_df.reindex_axis(sorted(pat2covarites_df.columns), axis=1)\n",
    "\n",
    "df_race = pd.DataFrame(df_clin.loc[df_clin.index.isin(pat2disease_df.columns), 'RACE'])\n",
    "df_race = df_race.loc[pat2covarites_df.columns,:]\n",
    "df_race['BLACK'] = (df_race.RACE=='BLACK OR AFRICAN AMERICAN').astype(int)\n",
    "df_race['ASIAN'] = (df_race.RACE=='ASIAN').astype(int)\n",
    "df_race.drop('RACE', axis=1, inplace=True)\n",
    "\n",
    "pat2covarites_df = pd.concat([pat2covarites_df, df_race.T])\n",
    "pat2covarites_df = pat2covarites_df.reindex_axis(sorted(pat2covarites_df.columns), axis=1)\n",
    "pat2covarites_df.to_csv('covariates.txt', sep='\\t')"
   ]
  },
  {
   "cell_type": "code",
   "execution_count": 8,
   "metadata": {
    "collapsed": true,
    "scrolled": true
   },
   "outputs": [],
   "source": [
    "# Sort index and columns\n",
    "pats_15 = sorted(df_exp.columns)\n",
    "df_exp.columns = df_exp.columns.str[:12]\n",
    "df_exp = df_exp.reindex_axis(sorted(df_exp.index), axis=0)\n",
    "df_exp = df_exp.reindex_axis(sorted(df_exp.columns), axis=1)\n",
    "df_exp.to_csv('pat2exp.txt', sep='\\t')\n",
    "# Filter the expression data\n",
    "df_exp = df_exp.loc[df_exp.T.median()>1,:]\n",
    "df_exp_log2 = np.log2(df_exp.clip(lower=1./8))\n",
    "df_exp_log2.to_csv('pat2exp_log2.txt', sep='\\t')\n",
    "df_exp_log2_zscore = ((df_exp_log2.T - df_exp_log2.T.mean())/df_exp_log2.T.std()).T"
   ]
  },
  {
   "cell_type": "code",
   "execution_count": 9,
   "metadata": {
    "collapsed": true
   },
   "outputs": [],
   "source": [
    "def rank_based_inv_norm(x, c=3./8):\n",
    "    return norm.ppf((rankdata(x) - c) / (x.size - 2*c + 1))"
   ]
  },
  {
   "cell_type": "code",
   "execution_count": 11,
   "metadata": {
    "collapsed": true
   },
   "outputs": [],
   "source": [
    "with open('whitelist.txt', 'w') as f:\n",
    "    f.write('\\n'.join(df_exp.index))"
   ]
  },
  {
   "cell_type": "markdown",
   "metadata": {},
   "source": [
    "# Parse copy number"
   ]
  },
  {
   "cell_type": "code",
   "execution_count": 12,
   "metadata": {},
   "outputs": [
    {
     "name": "stdout",
     "output_type": "stream",
     "text": [
      "('brca', 95)\n",
      "('prad', 20)\n",
      "('coadread', 65)\n",
      "('blca', 22)\n",
      "('hnsc', 50)\n",
      "('sarc', 34)\n",
      "('lihc', 52)\n",
      "('kich', 49)\n",
      "('skcm', 36)\n",
      "('gbm', 42)\n",
      "('ucec', 51)\n",
      "('laml', 30)\n",
      "('luad', 50)\n",
      "('kirc', 41)\n",
      "('cesc', 19)\n",
      "('stad', 40)\n",
      "('kirp', 36)\n",
      "('thca', 50)\n",
      "('lusc', 50)\n",
      "('dlbc', 7)\n",
      "('ov', 50)\n",
      "('lgg', 19)\n"
     ]
    }
   ],
   "source": [
    "# Parse CNA\n",
    "fns = glob.glob('/cellar/data/users/wzhang1984/cBioPortal/*/tcga/data_linear_CNA.txt')\n",
    "dfs = []\n",
    "for fn in fns:\n",
    "    disease = fn.split('/')[-3]\n",
    "    df = pd.read_table(fn, index_col=0)\n",
    "    df.columns = df.columns.str[:15]\n",
    "    df = df.loc[:,df.columns.isin(pats_15_ncm)]\n",
    "    npats = len(df.columns)\n",
    "    if npats > 0:\n",
    "        print(disease, npats)\n",
    "        dfs.append(df)\n",
    "df_cna = pd.concat(dfs, axis=1)"
   ]
  },
  {
   "cell_type": "code",
   "execution_count": 13,
   "metadata": {
    "scrolled": true
   },
   "outputs": [
    {
     "name": "stdout",
     "output_type": "stream",
     "text": [
      "761\n"
     ]
    }
   ],
   "source": [
    "# Finalize CNA features\n",
    "df_cna.columns = df_cna.columns.str[:12]\n",
    "# *Check the number of overlapped patients\n",
    "print len(df_exp.columns & df_cna.columns)\n",
    "df_cna = df_cna.loc[df_exp.index,df_exp.columns]\n",
    "df_cna.fillna(0, inplace=True)"
   ]
  },
  {
   "cell_type": "code",
   "execution_count": null,
   "metadata": {
    "collapsed": true
   },
   "outputs": [],
   "source": []
  },
  {
   "cell_type": "markdown",
   "metadata": {},
   "source": [
    "# Parse methylation"
   ]
  },
  {
   "cell_type": "code",
   "execution_count": 14,
   "metadata": {
    "collapsed": true
   },
   "outputs": [],
   "source": [
    "# Parse methylation from probes\n",
    "tcga_solid_02 = np.load('/cellar/data/users/wzhang1984/TCGA_methylation/tcga_solid_0.2.npy')\n",
    "\n",
    "tcga_solid_02_index = pd.read_pickle('/cellar/data/users/wzhang1984/TCGA_methylation/tcga_solid_0.2.index.pickle')\n",
    "\n",
    "with open('/cellar/data/users/wzhang1984/TCGA_methylation/tcga_solid_0.2.row.txt') as f:\n",
    "    tcga_solid_02_row = f.read().rstrip().splitlines()\n",
    "\n",
    "with open('/cellar/data/users/wzhang1984/TCGA_methylation/tcga_solid_0.2.column.txt') as f:\n",
    "    tcga_solid_02_column = f.read().rstrip().splitlines()\n",
    "\n",
    "df_me = pd.DataFrame(tcga_solid_02, index=tcga_solid_02_column, columns=tcga_solid_02_row)\n",
    "\n",
    "df_me.columns = df_me.columns.str[:15]\n",
    "df_me = df_me.loc[:,df_me.columns.isin(pats_15_ncm)]"
   ]
  },
  {
   "cell_type": "code",
   "execution_count": 15,
   "metadata": {
    "collapsed": true
   },
   "outputs": [],
   "source": [
    "# Load methylation probes-promoter mapping\n",
    "me2gene = pd.read_table('/cellar/data/users/wzhang1984/TCGA_methylation/methyl_probes_ann.txt', index_col=0)\n",
    "me2gene_dict = me2gene.loc[me2gene.loc[:,'Distance to TSS'].abs()<=1000,'Gene Name'].to_dict()"
   ]
  },
  {
   "cell_type": "code",
   "execution_count": 16,
   "metadata": {
    "collapsed": true,
    "scrolled": true
   },
   "outputs": [],
   "source": [
    "# Map methylation to promoters\n",
    "# Take mean values if there is a multiple match\n",
    "df_me = df_me.loc[df_me.index.isin(me2gene_dict.keys()),:]\n",
    "df_me.index = df_me.index.to_series().map(me2gene_dict)\n",
    "df_me = df_me.groupby(df_me.index).mean()\n",
    "df_me = df_me.groupby(df_me.columns, axis=1).mean()"
   ]
  },
  {
   "cell_type": "code",
   "execution_count": 17,
   "metadata": {},
   "outputs": [
    {
     "data": {
      "text/plain": [
       "blca         0.0\n",
       "brca        47.0\n",
       "cesc         0.0\n",
       "coadread     3.0\n",
       "dlbc         0.0\n",
       "gbm         17.0\n",
       "hnsc         0.0\n",
       "kich         0.0\n",
       "kirc        19.0\n",
       "kirp        14.0\n",
       "laml         0.0\n",
       "lgg          0.0\n",
       "lihc         0.0\n",
       "luad        20.0\n",
       "lusc        29.0\n",
       "ov          24.0\n",
       "prad         0.0\n",
       "sarc         0.0\n",
       "skcm         0.0\n",
       "stad         5.0\n",
       "thca         0.0\n",
       "dtype: float64"
      ]
     },
     "execution_count": 17,
     "metadata": {},
     "output_type": "execute_result"
    }
   ],
   "source": [
    "df_me.columns = df_me.columns.str[:12]\n",
    "pat2disease_df.loc[:,set(df_exp.columns) - set(df_me.columns)].T.sum()"
   ]
  },
  {
   "cell_type": "code",
   "execution_count": 18,
   "metadata": {},
   "outputs": [
    {
     "name": "stdout",
     "output_type": "stream",
     "text": [
      "605\n"
     ]
    }
   ],
   "source": [
    "# Finalize methylation features\n",
    "df_me.columns = df_me.columns.str[:12]\n",
    "# *Check the number of overlapped patients\n",
    "print len(df_exp.columns & df_me.columns)\n",
    "df_me = df_me.loc[df_exp.index,:]\n",
    "df_me.fillna(0, inplace=True)\n",
    "df_me = df_me.loc[df_exp.index,df_exp.columns]\n",
    "df_me = df_me.T.fillna(df_me.T.mean()).T"
   ]
  },
  {
   "cell_type": "markdown",
   "metadata": {
    "collapsed": true
   },
   "source": [
    "# Parse noncoding mutations"
   ]
  },
  {
   "cell_type": "code",
   "execution_count": 27,
   "metadata": {
    "collapsed": true,
    "scrolled": true
   },
   "outputs": [],
   "source": [
    "gene2loci = {}\n",
    "loci2pats = {}\n",
    "loci2concentrate = {}\n",
    "for line in open('../autoAnno_GeneHancer/TCGA_snv_mnv_merged_-1_anno_promoter_genehancer.txt'):\n",
    "    row = line.split('\\n')[0].split('\\t')\n",
    "    loci = '{}:{}-{}'.format(row[0], row[1], row[2])\n",
    "    pats = set()\n",
    "    mut2pats = {}\n",
    "    for mut in row[4].split(','):\n",
    "        [pat, Chr_StartEnd, source, alt] = mut.split(\"__\")\n",
    "        pat = pat[:12]\n",
    "        pats.add(pat)\n",
    "        if Chr_StartEnd not in mut2pats:\n",
    "            mut2pats[Chr_StartEnd] = set()\n",
    "        mut2pats[Chr_StartEnd].add(pat)\n",
    "    loci2pats[loci] = pats\n",
    "    loci2concentrate[loci] = 0\n",
    "    for mut in mut2pats:\n",
    "        loci2concentrate[loci] = max(loci2concentrate[loci], len(mut2pats[mut])/float(len(pats)))\n",
    "\n",
    "    for g in row[-1].split(','):\n",
    "        [gene, tp] = g.split('|')\n",
    "        if gene not in gene2loci:\n",
    "            gene2loci[gene] = set()\n",
    "        gene2loci[gene].add(loci)"
   ]
  },
  {
   "cell_type": "markdown",
   "metadata": {},
   "source": [
    "# Load covariates"
   ]
  },
  {
   "cell_type": "code",
   "execution_count": 28,
   "metadata": {
    "collapsed": true
   },
   "outputs": [],
   "source": [
    "line_factors = ''\n",
    "with open('PEER/log2_factors_20.txt') as f:\n",
    "    for line in f.read().splitlines():\n",
    "        row = line.split('\\t')\n",
    "        if row[0] == 'mean':\n",
    "            continue\n",
    "#         try:\n",
    "#             if row[0][0] == 'h' and int(row[0][1:])>20:\n",
    "#                 continue\n",
    "#         except:\n",
    "#             pass\n",
    "        line_factors += line + '\\n'"
   ]
  },
  {
   "cell_type": "markdown",
   "metadata": {
    "collapsed": true
   },
   "source": [
    "# Finalize data for linear regression"
   ]
  },
  {
   "cell_type": "code",
   "execution_count": 29,
   "metadata": {},
   "outputs": [
    {
     "data": {
      "text/plain": [
       "512"
      ]
     },
     "execution_count": 29,
     "metadata": {},
     "output_type": "execute_result"
    }
   ],
   "source": [
    "os.system('mkdir -p data4lm_peer lm_coef_p lm_model_p log')\n",
    "os.system('rm data4lm_peer/* lm_coef_p/* lm_model_p/* log/*')"
   ]
  },
  {
   "cell_type": "code",
   "execution_count": null,
   "metadata": {
    "scrolled": true
   },
   "outputs": [],
   "source": [
    "cut_npats = 5\n",
    "\n",
    "line_index2gene = ''\n",
    "i = 0\n",
    "line_header = '\\t{}\\n'.format('\\t'.join(df_exp.columns))\n",
    "pats_set = set(df_exp.columns)\n",
    "for gene, row in df_exp.iterrows():\n",
    "    if gene in gene2loci:\n",
    "        line_loci = ''\n",
    "        for locus in gene2loci[gene]:\n",
    "            if len(set(loci2pats[locus])&pats_set) < cut_npats:\n",
    "                continue\n",
    "            if loci2concentrate[locus]<0.35:\n",
    "                continue\n",
    "            line_loci += locus\n",
    "            for pat in df_exp.columns:\n",
    "                if pat in loci2pats[locus]:\n",
    "                    line_loci += '\\t1'\n",
    "                else:\n",
    "                    line_loci += '\\t0'\n",
    "            line_loci += '\\n'\n",
    "        if line_loci:\n",
    "            i += 1\n",
    "            print(i, gene)\n",
    "            line_index2gene += '{}\\t{}\\n'.format(i, gene)\n",
    "            line_out = line_header + line_loci\n",
    "            line_out += 'CNA\\t{}\\n'.format('\\t'.join(df_cna.loc[gene,:].astype(str)))\n",
    "            line_out += 'methylation\\t{}\\n'.format('\\t'.join(df_me.loc[gene,:].astype(str)))\n",
    "            line_out += line_factors\n",
    "            line_out += 'exp\\t{}\\n'.format('\\t'.join(df_exp_log2_zscore.loc[gene,:].astype(str)))\n",
    "            with open('archive/merge_-1_log2_PEER_20/data4lm_peer/{}.txt'.format(i), 'w') as f:\n",
    "                f.write(line_out)\n",
    "\n",
    "with open('archive/merge_-1_log2_PEER_20/index2gene4lm.txt', 'w') as f:\n",
    "    f.write(line_index2gene)"
   ]
  },
  {
   "cell_type": "code",
   "execution_count": null,
   "metadata": {
    "collapsed": true
   },
   "outputs": [],
   "source": []
  },
  {
   "cell_type": "code",
   "execution_count": null,
   "metadata": {
    "collapsed": true,
    "scrolled": true
   },
   "outputs": [],
   "source": []
  },
  {
   "cell_type": "code",
   "execution_count": null,
   "metadata": {
    "collapsed": true
   },
   "outputs": [],
   "source": []
  },
  {
   "cell_type": "code",
   "execution_count": null,
   "metadata": {
    "collapsed": true
   },
   "outputs": [],
   "source": []
  }
 ],
 "metadata": {
  "kernelspec": {
   "display_name": "Python 2",
   "language": "python",
   "name": "python2"
  },
  "language_info": {
   "codemirror_mode": {
    "name": "ipython",
    "version": 2
   },
   "file_extension": ".py",
   "mimetype": "text/x-python",
   "name": "python",
   "nbconvert_exporter": "python",
   "pygments_lexer": "ipython2",
   "version": "2.7.13"
  }
 },
 "nbformat": 4,
 "nbformat_minor": 2
}
