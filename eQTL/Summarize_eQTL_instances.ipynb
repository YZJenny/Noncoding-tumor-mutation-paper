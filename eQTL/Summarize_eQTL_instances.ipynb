{
 "cells": [
  {
   "cell_type": "code",
   "execution_count": 2,
   "metadata": {
    "collapsed": true
   },
   "outputs": [],
   "source": [
    "import numpy as np\n",
    "import pandas as pd\n",
    "import glob\n",
    "import scipy.stats as stats"
   ]
  },
  {
   "cell_type": "markdown",
   "metadata": {},
   "source": [
    "# Summarize eQTL instances"
   ]
  },
  {
   "cell_type": "code",
   "execution_count": 121,
   "metadata": {
    "collapsed": true
   },
   "outputs": [],
   "source": [
    "pats_12_ncm = set()\n",
    "pats_15_ncm = set()\n",
    "for line in open('../autoAnno_GeneHancer/TCGA2pat.txt').read().splitlines():\n",
    "    row = line.split('\\t')\n",
    "    if row[-1] != '0':\n",
    "        pats_12_ncm.add(row[0][:12])\n",
    "        pats_15_ncm.add(row[0][:15])"
   ]
  },
  {
   "cell_type": "code",
   "execution_count": 142,
   "metadata": {
    "collapsed": true
   },
   "outputs": [],
   "source": [
    "p2q = {}\n",
    "pcut = 0\n",
    "eGenes = set()\n",
    "gene2p = {}\n",
    "for line in open('./gene2ncmut_lm_p_q.txt').read().splitlines():\n",
    "    row = line.split('\\t')\n",
    "    p = float(row[-3])\n",
    "    q = float(row[-2])\n",
    "    p2q[p] = q\n",
    "    if q <= 0.2:\n",
    "        pcut = max(p+1e-5, pcut)\n",
    "        eGenes.add(row[0])\n",
    "    gene2p[row[0]] = p"
   ]
  },
  {
   "cell_type": "code",
   "execution_count": 149,
   "metadata": {
    "collapsed": true
   },
   "outputs": [],
   "source": [
    "loci2gene2info = {}\n",
    "loci2p = {}\n",
    "gene_loci_sig = set()\n",
    "loci_sig = set()\n",
    "affected_genes = set()\n",
    "for line in open('./gene2ncmut_lm_p_allPairs.txt').read().splitlines():\n",
    "    row = line.split('\\t')\n",
    "    if row[1] not in loci2gene2info:\n",
    "        loci2gene2info[row[1]] = {}\n",
    "        loci2p[row[1]] = 1\n",
    "    p = float(row[3])\n",
    "    loci2gene2info[row[1]][row[0]] = [row[2], row[3]] \n",
    "    loci2p[row[1]] = min(loci2p[row[1]], p)\n",
    "    if row[0] in eGenes and p <= pcut:\n",
    "        gene_loci_sig.add('{}\\t{}'.format(row[0], row[1]))\n",
    "        loci_sig.add(row[1])\n",
    "    affected_genes.add(row[0])"
   ]
  },
  {
   "cell_type": "code",
   "execution_count": 125,
   "metadata": {},
   "outputs": [
    {
     "name": "stdout",
     "output_type": "stream",
     "text": [
      "7821\n",
      "9445\n"
     ]
    }
   ],
   "source": [
    "print len(loci2gene2info)\n",
    "print len(affected_genes)"
   ]
  },
  {
   "cell_type": "code",
   "execution_count": 126,
   "metadata": {
    "collapsed": true
   },
   "outputs": [],
   "source": [
    "loci2motif = {}\n",
    "for line in open('../motifAnalysis/summarize_instances_50_compare_loci.txt').read().splitlines():\n",
    "    row = line.split('\\t')\n",
    "    loci = row[1]\n",
    "    if int(row[4]) < 4:\n",
    "        continue\n",
    "    motif_gain_loss_nPats = '_'.join(row[2:5])\n",
    "    if loci not in loci2motif:\n",
    "        loci2motif[loci] = set()\n",
    "    loci2motif[loci].add(motif_gain_loss_nPats)"
   ]
  },
  {
   "cell_type": "code",
   "execution_count": 23,
   "metadata": {
    "collapsed": true
   },
   "outputs": [],
   "source": [
    "pat2disease = {}\n",
    "disease2nPats = {}\n",
    "disease2nPats['PanCan'] = 0.0\n",
    "for line in open('../pat2clin4surv_gender.txt').read().splitlines():\n",
    "    row = line.split('\\t')\n",
    "    if row[0] in pats_12_ncm:\n",
    "        pat2disease[row[0]] = row[1]\n",
    "        if row[1] not in disease2nPats:\n",
    "            disease2nPats[row[1]] = 0.0\n",
    "        disease2nPats[row[1]] += 1\n",
    "        disease2nPats['PanCan'] += 1"
   ]
  },
  {
   "cell_type": "code",
   "execution_count": 24,
   "metadata": {},
   "outputs": [
    {
     "name": "stdout",
     "output_type": "stream",
     "text": [
      "{'DLBC': 7.0, 'GBM': 52.0, 'STAD': 40.0, 'UCEC': 51.0, 'THCA': 50.0, 'CESC': 20.0, 'LIHC': 54.0, 'HNSC': 50.0, 'SKCM': 38.0, 'BLCA': 23.0, 'LUSC': 50.0, 'OV': 50.0, 'SARC': 34.0, 'KIRP': 36.0, 'LGG': 19.0, 'LAML': 32.0, 'COADREAD': 65.0, 'PRAD': 20.0, 'LUAD': 50.0, 'BRCA': 99.0, 'KIRC': 41.0, 'KICH': 49.0, 'PanCan': 930.0}\n"
     ]
    }
   ],
   "source": [
    "print disease2nPats"
   ]
  },
  {
   "cell_type": "code",
   "execution_count": 25,
   "metadata": {
    "collapsed": true
   },
   "outputs": [],
   "source": [
    "gene2TSS = {}\n",
    "df = pd.read_table('/cellar/users/wzhang1984/soft/homer/data/promoters/human.pos', header=None, index_col=0)\n",
    "df['TSS'] = list(zip(df[1], df[2]+2000, -df[4]*2+1))\n",
    "refseq2TSS = df['TSS'].to_dict()\n",
    "df = pd.read_table('/cellar/users/wzhang1984/soft/homer/data/accession/human2gene.tsv', header=None, index_col=0)\n",
    "id2gene = df[6].to_dict()\n",
    "\n",
    "for ID in id2gene:\n",
    "    if ID in refseq2TSS:\n",
    "        gene = id2gene[ID]\n",
    "        if gene not in gene2TSS:\n",
    "            gene2TSS[gene] = set()\n",
    "        gene2TSS[gene].add(refseq2TSS[ID])"
   ]
  },
  {
   "cell_type": "code",
   "execution_count": 26,
   "metadata": {},
   "outputs": [
    {
     "name": "stdout",
     "output_type": "stream",
     "text": [
      "820\n",
      "83\n"
     ]
    }
   ],
   "source": [
    "line_out = set()\n",
    "header = True\n",
    "all_affected_pats = set()\n",
    "loci_wMotifs = set()\n",
    "line_out2 = set()\n",
    "line_out3 = set()\n",
    "line_out4 = set()\n",
    "gene2line_out5_fig2a = {}\n",
    "line_out4_header = 'loci\\tgene\\tdistance:gene\\tp\\tq\\tc_score\\t'+'\\t'.join([disease for disease in sorted(disease2nPats)])+'\\n'\n",
    "loci2concentrate = {}\n",
    "for line in open('../autoAnno_GeneHancer/TCGA_snv_mnv_merged_50_anno_promoter_genehancer.txt').read().splitlines():\n",
    "    row = line.split('\\t')\n",
    "    if header:\n",
    "        header = False\n",
    "        continue\n",
    "    row = line.split('\\n')[0].split('\\t')\n",
    "    loci = '{}:{}-{}'.format(row[0], row[1], row[2])\n",
    "    if loci not in loci2gene2info:\n",
    "        continue\n",
    "    Chr = row[0]\n",
    "    Start = int(row[1]) + 1\n",
    "    End = int(row[2]) - 1\n",
    "    mid = (Start+End) / 2.\n",
    "\n",
    "    loci_motifs = ''\n",
    "    if loci in loci2motif:\n",
    "        loci_motifs = ','.join(loci2motif[loci])\n",
    "        if loci2p[loci] <= pcut and loci in loci_sig:\n",
    "            loci_wMotifs.add(loci)\n",
    "    pats = set()\n",
    "    locs = set()\n",
    "    disease2pats = {}\n",
    "    mut2pats = {}\n",
    "    for mut in row[4].split(\",\"):\n",
    "        [pat, Chr_StartEnd, source, alt] = mut.split(\"__\")\n",
    "        pat = pat[:12]\n",
    "        pats.add(pat)\n",
    "        locs.add(Chr_StartEnd)\n",
    "        disease = pat2disease[pat]\n",
    "        if disease not in disease2pats:\n",
    "            disease2pats[disease] = set()\n",
    "        disease2pats[disease].add(pat)\n",
    "        if Chr_StartEnd not in mut2pats:\n",
    "            mut2pats[Chr_StartEnd] = set()\n",
    "        mut2pats[Chr_StartEnd].add(pat)\n",
    "    loci2concentrate[loci] = 0\n",
    "    for mut in mut2pats:\n",
    "        loci2concentrate[loci] = max(loci2concentrate[loci], len(mut2pats[mut])/float(len(pats)))\n",
    "\n",
    "    for g in row[-1].split(','):\n",
    "        [gene, tp] = g.split('|')\n",
    "        if gene in loci2gene2info[loci]:\n",
    "            distance = ''\n",
    "            distance_start_end = []\n",
    "            if gene in gene2TSS:\n",
    "                for chr_tss_direction in gene2TSS[gene]:\n",
    "                    [chr_gene, tss, direction] = chr_tss_direction\n",
    "                    if Chr != chr_gene:\n",
    "                        continue\n",
    "                    tmp = (mid-tss) * direction\n",
    "                    if distance == '' or np.abs(distance) > np.abs(tmp):\n",
    "                        distance = tmp\n",
    "                        distance_start_end = sorted([(Start-tss)*direction, (End-tss)*direction])\n",
    "            for i in range(len(distance_start_end)):\n",
    "                if distance_start_end[i] > 0:\n",
    "                    distance_start_end[i] = '+' + str(distance_start_end[i])\n",
    "            p = float(loci2gene2info[loci][gene][1])\n",
    "            q = ''\n",
    "            if p in p2q:\n",
    "                q = p2q[p]\n",
    "            line_out_tmp = '{}\\t{}\\t{}\\t{}\\t{}\\t{}\\t{}\\t{}\\t{}\\t{}\\t{}\\t{}\\t{}\\t{}\\n'.format(gene, loci, (End-Start+1), len(pats), len(locs), ','.join(sorted(pats)), ','.join(sorted(locs)), '\\t'.join(loci2gene2info[loci][gene]), q, loci_motifs, len(disease2pats), ','.join(['{}_{}'.format(disease_,len(disease2pats[disease_])) for disease_ in sorted(disease2pats)]), distance, loci2concentrate[loci])\n",
    "            line_out.add(line_out_tmp)\n",
    "            \n",
    "            if gene not in gene2line_out5_fig2a:\n",
    "                gene2line_out5_fig2a[gene] = [1, '']\n",
    "            if p < gene2line_out5_fig2a[gene][0]:\n",
    "                gene2line_out5_fig2a[gene][0] = p\n",
    "                gene2line_out5_fig2a[gene][1] = '{}\\t{}\\t{}\\t{}\\t{}\\t{}\\n'.format(gene, loci, loci2gene2info[loci][gene][0], gene2p[gene], p, distance)\n",
    "\n",
    "            gene_loci = '{}\\t{}'.format(gene,loci)\n",
    "            if gene_loci not in gene_loci_sig:\n",
    "                continue\n",
    "            diff = 1\n",
    "            for p2 in p2q:\n",
    "                if np.abs(p-p2) < diff:\n",
    "                    diff = np.abs(p-p2)\n",
    "                    q = p2q[p2]\n",
    "            all_affected_pats = all_affected_pats|pats\n",
    "            line_out3.add('{}\\t{}\\t{}\\t{}\\t{}\\t{}\\t{}\\t{}\\t{}\\t{}\\t{}\\n'.format(gene, Chr, Start, End, len(pats), p, q, loci2gene2info[loci][gene][0], ', '.join(['{}'.format(disease_i) for disease_i in sorted(disease2pats)]), distance, loci2concentrate[loci]))\n",
    "            loci_gene2percentages = {}\n",
    "            for disease in disease2nPats:\n",
    "                if disease in disease2pats:\n",
    "                    loci_gene2percentages[disease] = len(disease2pats[disease]) / disease2nPats[disease]\n",
    "                else:\n",
    "                    loci_gene2percentages[disease] = 0\n",
    "            loci_gene2percentages['PanCan'] = len(pats) / disease2nPats['PanCan']\n",
    "            line_out4.add('{}\\t{}\\t{}:{}\\t{}\\t{}\\t{}\\t{}\\n'.format(loci, gene, '-'.join([str(i) for i in distance_start_end]), gene.split('|')[0], p, q, loci2concentrate[loci], '\\t'.join([str(loci_gene2percentages[disease]) for disease in sorted(disease2nPats)])))\n",
    "\n",
    "            if gene_loci not in gene_loci_sig:\n",
    "                continue\n",
    "            if loci not in loci2motif:\n",
    "                continue\n",
    "            for motif in loci2motif[loci]:\n",
    "                gain_loss = ''\n",
    "                if len(motif.split('_gain_')) > 1:\n",
    "                    motif = motif.split('_gain_')[0]\n",
    "                    gain_loss = 'Gain'\n",
    "                elif len(motif.split('_lost_')) > 1:\n",
    "                    motif = motif.split('_lost_')[0]\n",
    "                    gain_loss = 'Loss'\n",
    "                line_out2.add('{}\\t{}\\t{}\\t{}\\t{}\\t{}\\t{}\\t{}\\t{}\\n'.format(gene, Chr, Start, End, len(pats), loci2gene2info[loci][gene][0], motif+'\\t'+gain_loss, ', '.join(['{}'.format(disease_i) for disease_i in sorted(disease2pats)]), distance))\n",
    "\n",
    "\n",
    "print len(all_affected_pats)\n",
    "print len(loci_wMotifs)\n"
   ]
  },
  {
   "cell_type": "code",
   "execution_count": 27,
   "metadata": {
    "collapsed": true
   },
   "outputs": [],
   "source": [
    "open('gene2ncmut_lm_min_loci_instances.txt','w').write(''.join(sorted(line_out)))\n",
    "open('gene2ncmut_lm_min_loci_instances_TableS2.txt','w').write('Gene\\teQTL chromosome\\teQTL start\\teQTL end\\tNumber of patients\\tCoefficient\\tMotif\\tGain/Loss of motif\\tCancer types\\tDistance to TSS\\n'+''.join(sorted(line_out2)))\n",
    "open('gene2ncmut_lm_min_loci_instances_TableS1.txt','w').write('Gene\\teQTL chromosome\\teQTL start\\teQTL end\\tNumber of patients\\tp-value\\tq-value\\tCoefficient\\tCancer types\\tDistance to TSS\\tConcentration score\\n'+''.join(sorted(line_out3)))\n",
    "\n",
    "open('gene2ncmut_lm_min_loci_instances_percentage.txt','w').write(line_out4_header+''.join(sorted(line_out4)))\n",
    "\n",
    "open('gene2ncmut_lm_min_loci_instances_fig2a.txt','w').write(''.join([i[1] for i in gene2line_out5_fig2a.values()]))"
   ]
  },
  {
   "cell_type": "code",
   "execution_count": null,
   "metadata": {},
   "outputs": [],
   "source": []
  },
  {
   "cell_type": "markdown",
   "metadata": {},
   "source": [
    "# Check overlap between eGenes and cancer genes"
   ]
  },
  {
   "cell_type": "code",
   "execution_count": 29,
   "metadata": {},
   "outputs": [
    {
     "name": "stdout",
     "output_type": "stream",
     "text": [
      "821\n",
      "16413\n"
     ]
    }
   ],
   "source": [
    "\n",
    "DIR4NBS = \"/cellar/data/users/wzhang1984/forNBS/\"\n",
    "\n",
    "CGs = set()\n",
    "CGC = set()\n",
    "og_tsg = set()\n",
    "\n",
    "for line in open(DIR4NBS+'CGs.txt').read().splitlines():\n",
    "    CGs.add(line)\n",
    "\n",
    "for line in open(DIR4NBS+'cancer_gene_census.csv').read().splitlines()[1:]:\n",
    "    row = line.split(',')\n",
    "    CGC.add(row[0])\n",
    "\n",
    "for line in open(DIR4NBS+'oncogene_tsg.txt').read().splitlines():\n",
    "    row = line.split('\\t')\n",
    "    og_tsg.add(row[0])\n",
    "\n",
    "all_CGs = CGs|CGC|og_tsg\n",
    "\n",
    "white_list=set()\n",
    "\n",
    "for line in open('./whitelist.txt').read().splitlines():\n",
    "    white_list.add(line.split('|')[0])\n",
    "\n",
    "print len(all_CGs&white_list)\n",
    "print len(white_list)\n",
    "\n",
    "line_out=''\n",
    "eGenes = set()\n",
    "for line in open('./gene2ncmut_lm_min_loci_instances_TableS1.txt').read().splitlines():\n",
    "    row = line.split('\\t')\n",
    "    loci2CGs = ''\n",
    "    loci2CGC = ''\n",
    "    loci2og_tsg = ''\n",
    "    g = row[0]\n",
    "    eGenes.add(g)\n",
    "    if g in CGs:\n",
    "        loci2CGs = 'CGs'\n",
    "    if g in CGC:\n",
    "        loci2CGC = 'CGC'\n",
    "    if g in og_tsg:\n",
    "        loci2og_tsg ='og_tsg'\n",
    "    if loci2CGs or loci2CGC:\n",
    "        line_out += '{}\\t{}\\t{}\\t{}\\n'.format(row[0], loci2CGs, loci2CGC, loci2og_tsg)\n",
    "\n",
    "open('loci2CGs.txt','wb').write(line_out)"
   ]
  },
  {
   "cell_type": "code",
   "execution_count": 30,
   "metadata": {},
   "outputs": [
    {
     "data": {
      "text/plain": [
       "(1.3570240220743386, 0.31833581787939375)"
      ]
     },
     "execution_count": 30,
     "metadata": {},
     "output_type": "execute_result"
    }
   ],
   "source": [
    "# Fisher's exct test for the enrichment of overlap between eGenes and cancer genes\n",
    "a = len(eGenes&all_CGs&white_list)\n",
    "b = len(eGenes&white_list) - a\n",
    "c = len(all_CGs&white_list) - a\n",
    "d = len(white_list) - b - c + a\n",
    "stats.fisher_exact([[a, b], [c, d]])"
   ]
  },
  {
   "cell_type": "code",
   "execution_count": 31,
   "metadata": {},
   "outputs": [
    {
     "name": "stdout",
     "output_type": "stream",
     "text": [
      "(13, 183, 808, 15435)\n"
     ]
    }
   ],
   "source": [
    "print(a, b, c, d)"
   ]
  },
  {
   "cell_type": "code",
   "execution_count": 32,
   "metadata": {},
   "outputs": [
    {
     "data": {
      "text/plain": [
       "{'AFF4',\n",
       " 'ARID1A',\n",
       " 'ARNT',\n",
       " 'CCND2',\n",
       " 'ERBB4',\n",
       " 'ETV5',\n",
       " 'EXT1',\n",
       " 'IRF6',\n",
       " 'KCNJ5',\n",
       " 'NCK1',\n",
       " 'SETDB1',\n",
       " 'SPECC1',\n",
       " 'TERT'}"
      ]
     },
     "execution_count": 32,
     "metadata": {},
     "output_type": "execute_result"
    }
   ],
   "source": [
    "eGenes&all_CGs"
   ]
  },
  {
   "cell_type": "markdown",
   "metadata": {},
   "source": [
    "# Create Cytoscape files for the eQTL-gene network"
   ]
  },
  {
   "cell_type": "code",
   "execution_count": 33,
   "metadata": {
    "collapsed": true
   },
   "outputs": [],
   "source": [
    "line_out = 'Gene1\\tGene2\\tAnnotation\\tDirection\\tScore\\n'\n",
    "g2t = {}\n",
    "\n",
    "for line in open('gene2ncmut_lm_min_loci_instances.txt').read().splitlines():\n",
    "    row = line.split('\\t')\n",
    "    if row[0] not in eGenes or float(row[8]) > pcut:\n",
    "        continue\n",
    "    gene = row[0]\n",
    "    g2t[gene] = 'gene'\n",
    "    g2t[row[1]] = 'nc'\n",
    "    line_out += '{}\\t{}\\t{}\\t{}\\t{}\\n'.format(row[1], gene, 'nc-gene', '-.', '1')\n",
    "\n",
    "network_fn = '/cellar/data/users/wzhang1984/forNBS/FIsInGene_031516_with_annotations.txt'\n",
    "\n",
    "for line in open(network_fn).read().splitlines()[1:]:\n",
    "    row = line.split('\\t')\n",
    "    [g1, g2] = row[:2]\n",
    "    if g1 in g2t and g2 in g2t:\n",
    "        line_out += line+'\\n'\n",
    "\n",
    "open('nc_network.txt','wb').write(line_out)\n",
    "\n",
    "line_out = 'name\\ttype\\n'\n",
    "for g in g2t:\n",
    "    line_out += '{}\\t{}\\n'.format(g,g2t[g])\n",
    "\n",
    "open('nc_network.noa','wb').write(line_out)\n"
   ]
  },
  {
   "cell_type": "markdown",
   "metadata": {
    "collapsed": true
   },
   "source": [
    "# Summarize mutations for network analysis"
   ]
  },
  {
   "cell_type": "code",
   "execution_count": 36,
   "metadata": {
    "collapsed": true
   },
   "outputs": [],
   "source": [
    "og_tsg = {}\n",
    "for line in open(DIR4NBS+'oncogene_tsg.txt').read().splitlines():\n",
    "    row = line.split('\\t')\n",
    "    og_tsg[row[0]] = row[1]\n",
    "\n",
    "genes_cancer = set(og_tsg.keys())"
   ]
  },
  {
   "cell_type": "code",
   "execution_count": 37,
   "metadata": {},
   "outputs": [
    {
     "name": "stdout",
     "output_type": "stream",
     "text": [
      "Reading pat2mut\n"
     ]
    }
   ],
   "source": [
    "print 'Reading pat2mut'\n",
    "gene2cdsmut = {}\n",
    "gene2cdsmut_orig = {}\n",
    "pats_cdsmut = set()\n",
    "for line in open('../coding_muts/pat2mut.txt').read().rstrip().split('\\n'):\n",
    "    row = line.split('\\t')\n",
    "    pat = row[0][:12]\n",
    "    pats_cdsmut.add(pat)\n",
    "    gene=row[1]\n",
    "    if gene not in gene2cdsmut:\n",
    "        gene2cdsmut[gene] = {}\n",
    "        gene2cdsmut_orig[gene] = {}\n",
    "    mut_f = int(row[2])\n",
    "    if gene not in og_tsg or og_tsg[gene] != 'Oncogene':\n",
    "        mut_f = -1\n",
    "    gene2cdsmut[gene][pat] = mut_f\n",
    "    gene2cdsmut_orig[gene][pat] = int(row[2])"
   ]
  },
  {
   "cell_type": "code",
   "execution_count": 38,
   "metadata": {},
   "outputs": [
    {
     "name": "stdout",
     "output_type": "stream",
     "text": [
      "Reading pat2CNA\n"
     ]
    }
   ],
   "source": [
    "print 'Reading pat2CNA'\n",
    "fns = glob.glob('/cellar/data/users/wzhang1984/cBioPortal/*/tcga/data_CNA.txt')\n",
    "dfs = []\n",
    "for fn in fns:\n",
    "    disease = fn.split('/')[-3]\n",
    "    df = pd.read_table(fn, index_col=0)\n",
    "    df.columns = df.columns.str[:15]\n",
    "    df = df.loc[:,df.columns.isin(pats_15_ncm)]\n",
    "    npats = len(df.columns)\n",
    "    if npats > 0:\n",
    "        dfs.append(df)\n",
    "df_cna = pd.concat(dfs, axis=1)\n",
    "df_cna.columns = df_cna.columns.str[:12]\n",
    "df_cna = (df_cna/2).round(0)\n",
    "pats_CNA = set(df_cna.columns)\n",
    "gene2CNA = df_cna.replace(0, np.nan).stack()\n",
    "gene2CNA_index = gene2CNA.index"
   ]
  },
  {
   "cell_type": "code",
   "execution_count": 39,
   "metadata": {},
   "outputs": [
    {
     "name": "stdout",
     "output_type": "stream",
     "text": [
      "Reading pat2ncmut\n"
     ]
    }
   ],
   "source": [
    "print 'Reading pat2ncmut'\n",
    "gene2ncmut = {}\n",
    "gene2dd = {}\n",
    "for line in open('./gene2ncmut_lm_min_loci_instances.txt').read().rstrip().split('\\n'):\n",
    "    row = line.split('\\t')\n",
    "    p = float(row[8])\n",
    "    if p > pcut:\n",
    "        continue\n",
    "    if row[0] not in eGenes:\n",
    "        continue\n",
    "    gene = row[0]\n",
    "\n",
    "    coef = float(row[7])\n",
    "    if gene not in gene2ncmut:\n",
    "        gene2ncmut[gene] = {}\n",
    "        gene2dd[gene] = [0, 1] # dominant direction, p-value\n",
    "    if p < gene2dd[gene][1]:\n",
    "        gene2dd[gene][0] = np.sign(coef)\n",
    "        gene2dd[gene][1] = p\n",
    "    for pat in row[5].split(','):\n",
    "        if pat not in gene2ncmut[gene]:\n",
    "            gene2ncmut[gene][pat] = 0\n",
    "        gene2ncmut[gene][pat] += coef\n",
    "    genes_cancer.add(gene)\n"
   ]
  },
  {
   "cell_type": "code",
   "execution_count": 40,
   "metadata": {},
   "outputs": [
    {
     "name": "stdout",
     "output_type": "stream",
     "text": [
      "Reading all pats\n",
      "846\n"
     ]
    }
   ],
   "source": [
    "pats_ncmut=set()\n",
    "print 'Reading all pats'\n",
    "for line in open('../autoAnno_GeneHancer/TCGA2pat.txt').read().rstrip().split('\\n'):\n",
    "    a=line.split('\\t')\n",
    "    pat=a[0][:12]\n",
    "    if a[-1]!='0':\n",
    "        pats_ncmut.add(pat)\n",
    "\n",
    "active_pats=pats_ncmut&pats_cdsmut&pats_CNA\n",
    "print len(active_pats)"
   ]
  },
  {
   "cell_type": "code",
   "execution_count": 41,
   "metadata": {
    "collapsed": true
   },
   "outputs": [],
   "source": [
    "line_info = 'gene\\tog_tsg\\tmut_oncogene\\tmut\\tamp\\tdel\\tncmut_up\\tncmut_down\\tdirection\\tup\\tdown\\tscore\\n'\n",
    "line_oncoprinter = 'Sample\\tGene\\tAlteration\\tType\\n'\n",
    "for gene in genes_cancer:\n",
    "    og_tsg_term = 'ncmut'\n",
    "    if gene in og_tsg:\n",
    "        og_tsg_term = og_tsg[gene]\n",
    "    Mut_oncogene = Mut = Amp = Del = up = down = score = 0\n",
    "    ncmut_up = 0\n",
    "    ncmut_down = 0\n",
    "    line_up = line_down = gene\n",
    "    tmp_oncoprinter = ''\n",
    "    for pat in sorted(active_pats):\n",
    "        alt_up = alt_down = 0\n",
    "        if gene in gene2cdsmut and pat in gene2cdsmut[gene]:\n",
    "            cdsmut = gene2cdsmut[gene][pat]\n",
    "            if cdsmut == 1:\n",
    "                Mut_oncogene += 1\n",
    "                alt_up = 1\n",
    "            elif cdsmut == -1:\n",
    "                Mut += 1\n",
    "                alt_down = -1\n",
    "            if gene2cdsmut_orig[gene][pat] == 1:\n",
    "                tmp_oncoprinter += '{}\\t{}\\t{}\\t{}\\n'.format(pat,gene,'*****','MISSENSE')\n",
    "            elif gene2cdsmut_orig[gene][pat] == -1:\n",
    "                tmp_oncoprinter += '{}\\t{}\\t{}\\t{}\\n'.format(pat,gene,'*****','TRUNC')\n",
    "        if (gene, pat) in gene2CNA_index:\n",
    "            CNA = gene2CNA[gene][pat]\n",
    "            if CNA == 1:\n",
    "                Amp += 1\n",
    "                tmp_oncoprinter += '{}\\t{}\\t{}\\t{}\\n'.format(pat,gene,'AMP','CNA')\n",
    "                alt_up = 1\n",
    "            elif CNA == -1:\n",
    "                Del += 1\n",
    "                tmp_oncoprinter += '{}\\t{}\\t{}\\t{}\\n'.format(pat,gene,'HOMDEL','CNA')\n",
    "                alt_down = -1\n",
    "        if gene in gene2ncmut and pat in gene2ncmut[gene]:\n",
    "            ncmut = gene2ncmut[gene][pat]\n",
    "            if ncmut > 0:\n",
    "                ncmut_up += 1\n",
    "                tmp_oncoprinter += '{}\\t{}\\t{}\\t{}\\n'.format(pat,gene,'UP','EXP')\n",
    "                alt_up = 1\n",
    "            elif ncmut < 0:\n",
    "                ncmut_down += 1\n",
    "                tmp_oncoprinter += '{}\\t{}\\t{}\\t{}\\n'.format(pat,gene,'DOWN','EXP')\n",
    "                alt_down = -1\n",
    "        if alt_up == 1:\n",
    "            up += 1.\n",
    "        if alt_down == -1:\n",
    "            down += 1.\n",
    "        line_up += '\\t{}'.format(alt_up)\n",
    "        line_down += '\\t{}'.format(alt_down)\n",
    "    line_up += '\\n'\n",
    "    line_down += '\\n'\n",
    "    if og_tsg_term in ['Oncogene','Amplification_Oncogene']:\n",
    "        score = up\n",
    "    elif og_tsg_term in ['TSG','Homozygous_deletion_TSG']:\n",
    "        score = -down\n",
    "    elif up > down:\n",
    "        score = up\n",
    "    elif up < down:\n",
    "        score = -down\n",
    "    if og_tsg_term == 'ncmut' and gene2dd[gene][0] < 0:\n",
    "        if ncmut_down < 5:\n",
    "            continue\n",
    "        score = -down\n",
    "    if og_tsg_term == 'ncmut' and gene2dd[gene][0] > 0:\n",
    "        if ncmut_up < 5:\n",
    "            continue\n",
    "        score = up\n",
    "    if og_tsg_term == 'Amplification_Oncogene' and Amp < 5:\n",
    "        continue\n",
    "    if og_tsg_term == 'Homozygous_deletion_TSG' and Del < 5:\n",
    "        continue\n",
    "    if og_tsg_term == 'Oncogene' and Mut_oncogene < 5:\n",
    "        continue\n",
    "    if og_tsg_term == 'TSG' and Mut < 5:\n",
    "        continue\n",
    "    line_oncoprinter += tmp_oncoprinter\n",
    "    dd = ''\n",
    "    if og_tsg_term == 'ncmut':\n",
    "        dd = gene2dd[gene]\n",
    "    line_info += '{}\\t{}\\t{}\\t{}\\t{}\\t{}\\t{}\\t{}\\t{}\\t{}\\t{}\\t{}\\n'.format(gene, og_tsg_term, Mut_oncogene, Mut, Amp, Del, ncmut_up, ncmut_down, dd, up/len(active_pats), down/len(active_pats), score/len(active_pats))"
   ]
  },
  {
   "cell_type": "code",
   "execution_count": 42,
   "metadata": {
    "collapsed": true
   },
   "outputs": [],
   "source": [
    "open('summarize_muts2info_min.txt','wb').write(line_info)\n",
    "open('summarize_muts4oncoprinter.txt','wb').write(line_oncoprinter)"
   ]
  },
  {
   "cell_type": "code",
   "execution_count": 43,
   "metadata": {},
   "outputs": [
    {
     "name": "stdout",
     "output_type": "stream",
     "text": [
      "Reading pat2disease\n"
     ]
    }
   ],
   "source": [
    "print 'Reading pat2disease'\n",
    "pat2disease = {}\n",
    "for line in open('../pat2clin4surv_gender.txt').read().splitlines():\n",
    "    row = line.split('\\t')\n",
    "    if row[0] not in pat2disease:\n",
    "        pat2disease[row[0]] = set()\n",
    "    pat2disease[row[0]].add(row[1])"
   ]
  },
  {
   "cell_type": "code",
   "execution_count": 44,
   "metadata": {
    "collapsed": true
   },
   "outputs": [],
   "source": [
    "line_out = ''\n",
    "for pat in sorted(active_pats):\n",
    "    line_out += pat+'\\t'+', '.join(pat2disease[pat[:12]])+'\\n'\n",
    "open('acitve_pats.txt','w').write(line_out)"
   ]
  },
  {
   "cell_type": "code",
   "execution_count": null,
   "metadata": {
    "collapsed": true
   },
   "outputs": [],
   "source": []
  },
  {
   "cell_type": "code",
   "execution_count": null,
   "metadata": {
    "collapsed": true
   },
   "outputs": [],
   "source": []
  },
  {
   "cell_type": "code",
   "execution_count": null,
   "metadata": {
    "collapsed": true
   },
   "outputs": [],
   "source": []
  },
  {
   "cell_type": "code",
   "execution_count": null,
   "metadata": {
    "collapsed": true
   },
   "outputs": [],
   "source": []
  },
  {
   "cell_type": "code",
   "execution_count": null,
   "metadata": {
    "collapsed": true
   },
   "outputs": [],
   "source": []
  },
  {
   "cell_type": "code",
   "execution_count": null,
   "metadata": {
    "collapsed": true
   },
   "outputs": [],
   "source": []
  },
  {
   "cell_type": "code",
   "execution_count": null,
   "metadata": {
    "collapsed": true
   },
   "outputs": [],
   "source": []
  },
  {
   "cell_type": "code",
   "execution_count": null,
   "metadata": {
    "collapsed": true
   },
   "outputs": [],
   "source": []
  }
 ],
 "metadata": {
  "kernelspec": {
   "display_name": "Python 2",
   "language": "python",
   "name": "python2"
  },
  "language_info": {
   "codemirror_mode": {
    "name": "ipython",
    "version": 2
   },
   "file_extension": ".py",
   "mimetype": "text/x-python",
   "name": "python",
   "nbconvert_exporter": "python",
   "pygments_lexer": "ipython2",
   "version": "2.7.13"
  }
 },
 "nbformat": 4,
 "nbformat_minor": 2
}
