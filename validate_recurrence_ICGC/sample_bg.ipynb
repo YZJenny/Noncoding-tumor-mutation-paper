{
 "cells": [
  {
   "cell_type": "code",
   "execution_count": 1,
   "metadata": {
    "collapsed": true
   },
   "outputs": [],
   "source": [
    "%load_ext autoreload\n",
    "%autoreload 2"
   ]
  },
  {
   "cell_type": "code",
   "execution_count": 2,
   "metadata": {
    "collapsed": true
   },
   "outputs": [],
   "source": [
    "import random\n",
    "import numpy as np\n",
    "import os\n",
    "from multiprocessing import Pool, cpu_count\n",
    "import glob\n",
    "import pandas as pd\n",
    "import gc"
   ]
  },
  {
   "cell_type": "markdown",
   "metadata": {},
   "source": [
    "# Sample local background"
   ]
  },
  {
   "cell_type": "code",
   "execution_count": 3,
   "metadata": {
    "collapsed": true
   },
   "outputs": [],
   "source": [
    "binSize = 1000000\n",
    "n_perm = 20000"
   ]
  },
  {
   "cell_type": "code",
   "execution_count": 4,
   "metadata": {
    "scrolled": true
   },
   "outputs": [
    {
     "name": "stdout",
     "output_type": "stream",
     "text": [
      "chr1\n",
      "chr2\n",
      "chr3\n",
      "chr4\n",
      "chr5\n",
      "chr6\n",
      "chr7\n",
      "chr8\n",
      "chr9\n",
      "chr10\n",
      "chr11\n",
      "chr12\n",
      "chr13\n",
      "chr14\n",
      "chr15\n",
      "chr16\n",
      "chr17\n",
      "chr18\n",
      "chr19\n",
      "chr20\n",
      "chr21\n",
      "chr22\n",
      "chrX\n",
      "chrY\n"
     ]
    }
   ],
   "source": [
    "# build the library of annotations\n",
    "bin2ann = {}\n",
    "chr_list = ['chr{}'.format(i) for i in range(1, 23)]\n",
    "chr_list.extend(['chrX', 'chrY'])\n",
    "chr2ranges = {}\n",
    "for Chr in chr_list:\n",
    "    chr2ranges[Chr] = []\n",
    "chr_prev = ''\n",
    "for line in open('ann/gene_promoter_enhancer.ann.final.txt').read().splitlines():\n",
    "    row = line.split('\\t')\n",
    "    Chr = row[1]\n",
    "    if Chr not in chr_list:\n",
    "        continue\n",
    "    if Chr != chr_prev:\n",
    "        print Chr\n",
    "        chr_prev = Chr\n",
    "    Start = int(row[2])\n",
    "    End = int(row[3])\n",
    "    ann = row[5]\n",
    "    startBin = (Start-200)/binSize\n",
    "    endBin = (End+200)/binSize\n",
    "    for Bin in range(startBin, endBin+1):\n",
    "        chr_bin = '{}:{}'.format(Chr, Bin)\n",
    "        if chr_bin not in bin2ann:\n",
    "            bin2ann[chr_bin] = {}\n",
    "        if ann not in bin2ann[chr_bin]:\n",
    "            bin2ann[chr_bin][ann] = []\n",
    "        bin2ann[chr_bin][ann].append([Start, End])\n",
    "    if ann in ['P', 'Enhancer']:\n",
    "        chr2ranges[Chr].append([Start, End])"
   ]
  },
  {
   "cell_type": "code",
   "execution_count": 5,
   "metadata": {
    "collapsed": true
   },
   "outputs": [],
   "source": [
    "chr2p_list = []\n",
    "chr2region2p = {}\n",
    "for Chr in chr_list:\n",
    "    chr2p_list.append(0)\n",
    "    chr2region2p[Chr] = []\n",
    "    for region in chr2ranges[Chr]:\n",
    "        Len = region[1] - region[0] + 1.\n",
    "        chr2p_list[-1] += Len\n",
    "        chr2region2p[Chr].append(Len)\n",
    "    chr2region2p[Chr] = np.array(chr2region2p[Chr])\n",
    "    chr2region2p[Chr] /= np.sum(chr2region2p[Chr])\n",
    "chr2p_list = np.array(chr2p_list)\n",
    "chr2p_list /= np.sum(chr2p_list)"
   ]
  },
  {
   "cell_type": "code",
   "execution_count": 6,
   "metadata": {
    "collapsed": true
   },
   "outputs": [],
   "source": [
    "eQTL2info = {}\n",
    "for line in open('regions_loci5_glmnet.txt').read().splitlines():\n",
    "    row = line.split('\\t')\n",
    "    Chr = 'chr'+row[0]\n",
    "    Start = int(row[1])\n",
    "    End = int(row[2])\n",
    "    eQTL = row[-1]\n",
    "    mid = int(round((Start+End)/2.0))\n",
    "    half_len = int(round((End-Start)/2.0))\n",
    "    startBin = (mid-200)/binSize\n",
    "    endBin = (mid+200)/binSize\n",
    "    eQTL_ann = ''\n",
    "    for Bin in range(startBin, endBin+1):\n",
    "        chr_bin = '{}:{}'.format(Chr, Bin)\n",
    "        for ann in bin2ann[chr_bin]:\n",
    "            for start_end in bin2ann[chr_bin][ann]:\n",
    "                [ann_start, ann_end]=start_end\n",
    "                if mid>=ann_start and mid<=ann_end:\n",
    "                    eQTL_ann = ann\n",
    "                    eQTL2info[eQTL] = [Chr, Start, End, mid, half_len, ann]\n",
    "                    break\n",
    "            if eQTL_ann!='':\n",
    "                break\n",
    "        if eQTL_ann!='':\n",
    "            break"
   ]
  },
  {
   "cell_type": "code",
   "execution_count": 7,
   "metadata": {
    "collapsed": true
   },
   "outputs": [],
   "source": [
    "def sample_bg(eQTL):\n",
    "    [Chr, Start, End, mid, half_len, ann] = eQTL2info[eQTL]\n",
    "    print eQTL, ann\n",
    "    # exclude any overlap with the eQTL\n",
    "    eQTL_range = range(Start-half_len, End+half_len+1)\n",
    "    \n",
    "    chr_choices = np.random.choice(chr_list, n_perm, p=chr2p_list)\n",
    "    i = 0\n",
    "    bgs = []\n",
    "    while i < n_perm:\n",
    "        bgChr = chr_choices[i]\n",
    "        rangeIndex = np.random.choice(len(chr2ranges[bgChr]), 1, p=chr2region2p[bgChr])[0]\n",
    "        [bgStart, bgEnd] = chr2ranges[bgChr][rangeIndex]\n",
    "        Range = range(bgStart, bgEnd+1)\n",
    "        if bgChr == Chr:\n",
    "            Range = list(set(Range) - set(eQTL_range))\n",
    "        if Range != []:\n",
    "            bgs.append([bgChr, np.random.choice(Range, 1)[0]])\n",
    "            i+=1\n",
    "    return bgs"
   ]
  },
  {
   "cell_type": "code",
   "execution_count": 8,
   "metadata": {
    "scrolled": true
   },
   "outputs": [
    {
     "name": "stdout",
     "output_type": "stream",
     "text": [
      "+10021-+10079:P2RY13 Enhancer\n",
      "+128894-+129002:ZNF551 Enhancer\n",
      "+111835-+111871:EXT1 Enhancer\n",
      "+117473-+117514:MECP2 P\n",
      "+168344-+168385:ZDHHC11 Enhancer\n",
      "+19-+27:KCNJ5 P\n",
      "+2152-+2246:MST1 Enhancer\n",
      "+148505-+148529:PARD3 Enhancer\n",
      "+310640-+310663:S100B Enhancer\n",
      "+35402-+35530:IRF6 Enhancer\n",
      "+252498-+252565:HMG20A Enhancer\n",
      "+38208-+38210:ERAP2 Enhancer\n",
      "+23295-+23305:TMEM140 P\n",
      "+464676-+464681:AFF4 Enhancer\n",
      "+328033-+328135:ADGRE1 Enhancer\n",
      "+441029-+441033:RTP4 Enhancer\n",
      "+34444-+34451:ZNF665 P\n",
      "+311675-+311778:CA11 Enhancer\n",
      "+170021-+170064:PDXDC1 Enhancer\n",
      "+26306-+26397:SDHAP1 Enhancer\n",
      "+24327-+24369:ZNF561 Enhancer\n",
      "+101126-+101274:NFX1 Enhancer\n",
      "+11842-+11895:UNC93B1 Enhancer\n",
      "+149272-+149297:ETV5 P\n",
      "+471747-+471747:CTNNBL1 P\n",
      "+20183-+20191:USP25 Enhancer\n",
      "+2159-+2159:VIPR1 Enhancer\n",
      "+11212-+11313:FMO2 Enhancer\n",
      "+1349-+1357:TRIM54 Enhancer\n",
      "+446794-+446838:IGF2 Enhancer\n",
      "+38337-+38366:MUL1 Enhancer\n",
      "+361799-+361849:EDC3 Enhancer\n",
      "+321860-+321920:TRIM31 P\n",
      "+350566-+350585:SMIM8 Enhancer\n",
      "+175-+216:GLYCTK P\n",
      "+103408-+103582:NFX1 Enhancer\n",
      "+205467-+205579:DISC1 Enhancer\n",
      "+47265-+47272:SLC9A7 Enhancer\n",
      "+224223-+224388:SULT1A2 Enhancer\n",
      "+1261-+1318:APOBEC3A Enhancer\n",
      "+1557-+1627:RELL1 Enhancer\n",
      "+30620-+30625:PDCD6 Enhancer\n",
      "+24540-+24554:SDHAP1 Enhancer\n",
      "+377602-+377603:SPECC1 Enhancer\n",
      "+451550-+451667:TMEM150B P\n",
      "+112150-+112150:UBE2C Enhancer\n",
      "+135430-+135462:PAWR Enhancer\n",
      "+38990-+39000:SLC25A52 Enhancer\n",
      "+32678-+32744:GYPC Enhancer\n",
      "+353-+394:TINAGL1 P\n",
      "+17844-+17872:NCALD Enhancer\n",
      "+227129-+227149:ACOT1 Enhancer\n",
      "+104494-+104535:PCDH1 Enhancer\n",
      "+12614-+12656:BCAR3 Enhancer\n",
      "+4728-+4755:GSTT2 Enhancer\n",
      "+168335-+168337:ARID1A Enhancer\n",
      "+30970-+30985:NCK1 Enhancer\n",
      "+377921-+377932:TMEM189 Enhancer\n",
      "+206255-+206255:CACTIN Enhancer\n",
      "+2466-+2492:SIRPB1 Enhancer\n",
      "+46129-+46129:FCGR2C Enhancer\n",
      "+112266-+112334:ARNT Enhancer\n",
      "+426951-+426974:THADA Enhancer\n",
      "+138656-+138740:WARS2 Enhancer\n",
      "+477801-+477817:CXorf40A N\n",
      "+5053-+5105:PLEKHM1 Enhancer\n",
      "+544685-+544744:C2orf27A Enhancer\n",
      "+605718-+605719:TMEM138 P\n",
      "+7496-+7531:FAM228B P\n",
      "+820713-+820767:PGM5 Enhancer\n",
      "+84-+84:IQUB P\n",
      "+90161-+90223:C6orf136 Enhancer\n",
      "−106708-−106695:DUSP12 Enhancer\n",
      "+48828-+48974:DHX34 Enhancer\n",
      "−122715-−122671:GPER1 Enhancer\n",
      "+51149-+51223:IL1A Enhancer\n",
      "−13625-−13598:TC2N Enhancer\n",
      "+547294-+547337:C2orf27A Enhancer\n",
      "−1415-−1358:INAFM1 Enhancer\n",
      "+66408-+66492:ZNF790 Enhancer\n",
      "−151976-−151976:NBPF1 Enhancer\n",
      "+753-+784:NOMO2 P\n",
      "−181-−116:ESR2 P\n",
      "+82104-+82146:SPESP1 Enhancer\n",
      "−200112-−200107:MPC2 P\n",
      "+857517-+857586:STX5 Enhancer\n",
      "−213437-−213400:ACSM1 Enhancer\n",
      "+929278-+929278:NR2F6 Enhancer\n",
      "+496405-+496464:ISG20 Enhancer\n",
      "−109572-−109520:UCKL1 Enhancer\n",
      "−12857-−12716:ZNF251 Enhancer\n",
      "+516264-+516272:ZNF155 P\n",
      "−13647-−13581:GTF3C6 Enhancer\n",
      "+579966-+579974:TBC1D2B Enhancer\n",
      "−146211-−146048:NBPF1 Enhancer\n",
      "+67914-+68002:TIGD6 P\n",
      "−154145-−154111:JADE2 P\n",
      "+754705-+754733:LRRC4B P\n",
      "−18111-−18108:PLEKHG6 Enhancer\n",
      "+826924-+826988:METTL16 P\n",
      "−2013-−2010:LRRC40 Enhancer\n",
      "+87164-+87266:PLCG2 Enhancer\n",
      "−23010-−22972:FCGR2C Enhancer\n",
      "+95097-+95132:HYI P\n",
      "+5048-+5228:APOBEC2 Enhancer\n",
      "−114732-−114704:RARS2 Enhancer\n",
      "−133161-−133158:RTCA P\n",
      "+529473-+529558:CCL23 P\n",
      "−137-−25:MASP1 P\n",
      "+59237-+59289:ZNF550 P\n",
      "−1475-−1465:HCG4B Enhancer\n",
      "+69877-+69973:NSFL1C Enhancer\n",
      "+781185-+781238:C3orf18 P\n",
      "−157548-−157492:HMBS Enhancer\n",
      "−18999-−18953:EXOC3 Enhancer\n",
      "+8316-+8320:OPA3 Enhancer\n",
      "+891753-+891799:ZNF764 Enhancer\n",
      "−202-−191:DAAM1 P\n",
      "−2434-−2332:TUBBP5 Enhancer\n",
      "+97957-+97958:ADIPOR2 Enhancer\n",
      "−115798-−115779:ZNF622 Enhancer\n",
      "−251737-−251712:CDC23 P\n",
      "−134187-−134176:NAT1 Enhancer\n",
      "−140262-−140218:RAB40A Enhancer\n",
      "−267580-−267538:RUNX3 P\n",
      "−148244-−148202:CBLN2 Enhancer\n",
      "−286286-−286179:TXNDC15 Enhancer\n",
      "−19584-−19526:AKR1C1 Enhancer\n",
      "−305539-−305530:TSPAN32 P\n",
      "−171556-−171538:RCSD1 Enhancer\n",
      "−35456-−35289:UPK3B P\n",
      "−21155-−21051:LGALS8 Enhancer\n",
      "−24986-−24957:FUK Enhancer\n",
      "−365839-−365797:CA4 Enhancer\n",
      "−254171-−254163:SLC25A44 Enhancer\n",
      "−39110-−39082:C1QTNF6 Enhancer\n",
      "−45127-−45070:RAB3D P\n",
      "−27257-−27141:IQCE Enhancer\n",
      "−510970-−510887:CA11 P\n",
      "−296801-−296686:CCND2 Enhancer\n",
      "−542407-−542270:USP32P2 Enhancer\n",
      "−319-−252:PDPR P\n",
      "−67178-−67164:FCGR2C Enhancer\n",
      "−356-−333:SDHAP2 P\n",
      "−70607-−70402:HLTF Enhancer\n",
      "−366671-−366628:SOCS5 Enhancer\n",
      "−775368-−775352:LYSMD1 Enhancer\n",
      "−402890-−402874:RDH13 Enhancer\n",
      "−26028-−26028:GFOD1 Enhancer\n",
      "−81119-−81108:PEX26 Enhancer\n",
      "−46444-−46444:CDC42 Enhancer\n",
      "−277187-−277103:BRD2 Enhancer\n",
      "−876032-−876024:HERC3 Enhancer\n",
      "−51710-−51608:AHRR Enhancer\n",
      "−299635-−299556:SFRP4 Enhancer\n",
      "−963-−941:HSD17B6 P\n",
      "−6338-−6326:MAPK13 Enhancer\n",
      "−32181-−32054:FAM69C Enhancer\n",
      "−67894-−67745:ENPP2 Enhancer\n",
      "−356584-−356500:PDGFA P\n",
      "−71678-−71678:IL12RB1 Enhancer\n",
      "−369-−320:LIMS2 P\n",
      "−413682-−413672:SYN2 Enhancer\n",
      "−78-−18:HLA-DRB1 P\n",
      "−81161-−81101:ERBB4 Enhancer\n",
      "−264727-−264670:ZNF575 Enhancer\n",
      "−46746-−46725:ITGB4 Enhancer\n",
      "−28160-−28112:RNF126P1 Enhancer\n",
      "−88481-−88457:CDC42 Enhancer\n",
      "−30054-−30027:ATP9A Enhancer\n",
      "−52060-−52060:TAS2R5 P\n",
      "−963-−949:C3orf18 P\n",
      "−346141-−346128:FAM66A Enhancer\n",
      "−65798-−65733:SIRT5 Enhancer\n",
      "−358045-−358013:SRGAP2 Enhancer\n",
      "−681910-−681862:PUM3 P\n",
      "−722743-−722615:ZNF44 Enhancer\n",
      "−379072-−379013:FAU Enhancer\n",
      "−424468-−424424:SF3A2 P\n",
      "−81298-−81201:TBC1D20 P\n",
      "−795-−761:RLN2 P\n",
      "−492492-−492443:CLEC4E Enhancer\n",
      "−990-−980:PSMD12 P\n",
      "−887841-−887760:ITFG2 Enhancer\n",
      "−53421-−53224:DPY19L2P1 Enhancer\n",
      "−97279-−97226:NOV Enhancer\n",
      "−6633-−6576:CD40 Enhancer\n",
      "−69-−61:MAP1S P\n",
      "−77027-−76992:DSTYK Enhancer\n",
      "−869128-−869128:ZNF284 Enhancer\n",
      "−803819-−803760:ZNF284 Enhancer\n",
      "−91-+1:TERT P\n",
      "−97983-−97929:RASA4 Enhancer\n"
     ]
    }
   ],
   "source": [
    "eQTLs = sorted(eQTL2info.keys())\n",
    "\n",
    "n_processes = 16\n",
    "pool = Pool(processes=n_processes)\n",
    "\n",
    "bgs = pool.map(sample_bg, eQTLs)\n",
    "\n",
    "pool.close()\n",
    "pool.join()"
   ]
  },
  {
   "cell_type": "code",
   "execution_count": 9,
   "metadata": {
    "collapsed": true
   },
   "outputs": [],
   "source": [
    "eQTL2bg = {}\n",
    "for i in range(len(eQTLs)):\n",
    "    eQTL2bg[eQTLs[i]] = bgs[i]"
   ]
  },
  {
   "cell_type": "markdown",
   "metadata": {},
   "source": [
    "# mono-, di- and tri-nucleotide context"
   ]
  },
  {
   "cell_type": "code",
   "execution_count": 10,
   "metadata": {},
   "outputs": [
    {
     "data": {
      "text/plain": [
       "0"
      ]
     },
     "execution_count": 10,
     "metadata": {},
     "output_type": "execute_result"
    }
   ],
   "source": [
    "os.system('mkdir tmp/')\n",
    "os.system('rm tmp/*')"
   ]
  },
  {
   "cell_type": "code",
   "execution_count": 11,
   "metadata": {
    "collapsed": true
   },
   "outputs": [],
   "source": [
    "# Create fasta files for the background\n",
    "def bg2fa(eQTL):\n",
    "    [Chr, Start, End, mid, half_len, ann] = eQTL2info[eQTL]\n",
    "    Len = End - Start\n",
    "    line_out = '{}:{}-{}\\n'.format(Chr, Start-1, End+2)\n",
    "    for bg in eQTL2bg[eQTL]:\n",
    "        [bgChr, bgMid] = bg\n",
    "        bgMid = int(bgMid)\n",
    "        bgStart = bgMid - half_len\n",
    "        bgEnd = bgStart + Len\n",
    "        line_out += '{}:{}-{}\\n'.format(bgChr, bgStart-1, bgEnd+2)\n",
    "        fn = 'tmp/{}_{}_{}_{}'.format(eQTL.split(':')[1], Chr, Start, End)\n",
    "    with open(fn, 'w') as f:\n",
    "        f.write(line_out)\n",
    "    os.system('twoBitToFa ../motifAnalysis/hg19.2bit {}.fa -seqList={} -noMask'.format(fn, fn))\n",
    "    os.system('rm {}'.format(fn))"
   ]
  },
  {
   "cell_type": "code",
   "execution_count": 12,
   "metadata": {
    "collapsed": true,
    "scrolled": true
   },
   "outputs": [],
   "source": [
    "eQTLs = sorted(eQTL2info.keys())\n",
    "\n",
    "n_processes = 16\n",
    "pool = Pool(processes=n_processes)\n",
    "\n",
    "pool.map(bg2fa, eQTLs)\n",
    "\n",
    "pool.close()\n",
    "pool.join()"
   ]
  },
  {
   "cell_type": "code",
   "execution_count": 13,
   "metadata": {
    "collapsed": true
   },
   "outputs": [],
   "source": [
    "# Create a dictionary of 3-nucleotide context\n",
    "complement = {'A': 'T', 'C': 'G', 'G': 'C', 'T': 'A'}\n",
    "context2category = {}\n",
    "nucleotides = ['A', 'C', 'G', 'T']\n",
    "for nuc1 in nucleotides:\n",
    "    revcom = complement[nuc1]\n",
    "    context2category[nuc1] = min(nuc1, revcom)\n",
    "    for nuc2 in nucleotides:\n",
    "        dinuc = nuc1 + nuc2\n",
    "        revcom = complement[nuc2] + complement[nuc1]\n",
    "        context2category[dinuc] = min(dinuc, revcom)\n",
    "        for nuc3 in nucleotides:\n",
    "            trinuc = nuc1 + nuc2 + nuc3\n",
    "            revcom = complement[nuc3] + complement[nuc2] + complement[nuc1]\n",
    "            context2category[trinuc] = min(trinuc, revcom)\n",
    "            \n",
    "context_list = sorted(list(set(context2category.values())))"
   ]
  },
  {
   "cell_type": "code",
   "execution_count": 14,
   "metadata": {
    "collapsed": true
   },
   "outputs": [],
   "source": [
    "# Calculate the correlation of the 3-nucleotide context between eQTL and background\n",
    "def bg2contextcorr(eQTL):\n",
    "    \n",
    "    def generate_context_vector(seq):\n",
    "        context_vector = [0.] * len(context_list)\n",
    "        for i in range(len(seq)-2):\n",
    "            trinuc = seq[i:i+3]\n",
    "            if 'N' in trinuc:\n",
    "                continue\n",
    "            context_vector[context_list.index(context2category[trinuc])] += 1\n",
    "            dinuc = seq[i:i+2]\n",
    "            context_vector[context_list.index(context2category[dinuc])] += 1\n",
    "            mononuc = seq[i+1:i+2]\n",
    "            context_vector[context_list.index(context2category[mononuc])] += 1\n",
    "        dinuc = seq[-2:] # The last di-nucleotide\n",
    "        if 'N' not in dinuc:\n",
    "            context_vector[context_list.index(context2category[dinuc])] += 1\n",
    "        return context_vector\n",
    "    \n",
    "    [Chr, Start, End, mid, half_len, ann] = eQTL2info[eQTL]\n",
    "    fn = 'tmp/{}_{}_{}_{}.fa'.format(eQTL.split(':')[1], Chr, Start, End)\n",
    "    context_vectors = []\n",
    "    \n",
    "    with open(fn) as f:\n",
    "        seq = ''\n",
    "        for line in f.read().rstrip().splitlines():\n",
    "            if line[0] == '>':\n",
    "                if seq != '':\n",
    "                    context_vectors.append(generate_context_vector(seq))\n",
    "                seq = ''\n",
    "            else:\n",
    "                seq += line\n",
    "    context_vectors.append(generate_context_vector(seq))\n",
    "                \n",
    "    context_vectors = np.array(context_vectors)\n",
    "    pcc = np.corrcoef(context_vectors)\n",
    "    return pcc[0]"
   ]
  },
  {
   "cell_type": "code",
   "execution_count": 15,
   "metadata": {
    "collapsed": true,
    "scrolled": true
   },
   "outputs": [],
   "source": [
    "# eQTLs = sorted(eQTL2info.keys())\n",
    "\n",
    "# n_processes = 4\n",
    "# pool = Pool(processes=n_processes)\n",
    "\n",
    "# pccs = pool.map(bg2contextcorr, eQTLs)\n",
    "\n",
    "# pool.close()\n",
    "# pool.join()"
   ]
  },
  {
   "cell_type": "code",
   "execution_count": null,
   "metadata": {
    "collapsed": true
   },
   "outputs": [],
   "source": [
    "# eQTL2bgpcc = {}\n",
    "# for i in range(len(eQTLs)):\n",
    "#     print eQTLs[i], np.count_nonzero(~np.isnan(pccs[i]))\n",
    "#     eQTL2bgpcc[eQTLs[i]] = np.nan_to_num(pccs[i])"
   ]
  },
  {
   "cell_type": "code",
   "execution_count": null,
   "metadata": {},
   "outputs": [
    {
     "name": "stdout",
     "output_type": "stream",
     "text": [
      "+10021-+10079:P2RY13 20001\n",
      "+101126-+101274:NFX1 20001\n",
      "+103408-+103582:NFX1 20001\n"
     ]
    },
    {
     "name": "stderr",
     "output_type": "stream",
     "text": [
      "/cellar/users/wzhang1984/Data/bcbio/anaconda/lib/python2.7/site-packages/numpy/lib/function_base.py:3162: RuntimeWarning: invalid value encountered in true_divide\n",
      "  c /= stddev[:, None]\n",
      "/cellar/users/wzhang1984/Data/bcbio/anaconda/lib/python2.7/site-packages/numpy/lib/function_base.py:3163: RuntimeWarning: invalid value encountered in true_divide\n",
      "  c /= stddev[None, :]\n"
     ]
    },
    {
     "name": "stdout",
     "output_type": "stream",
     "text": [
      "+104494-+104535:PCDH1 20000\n",
      "+111835-+111871:EXT1 20001\n",
      "+11212-+11313:FMO2 20000\n",
      "+112150-+112150:UBE2C 20001\n",
      "+112266-+112334:ARNT 20000\n",
      "+117473-+117514:MECP2 20001\n",
      "+11842-+11895:UNC93B1 20000\n",
      "+1261-+1318:APOBEC3A 20001\n",
      "+12614-+12656:BCAR3 20000\n",
      "+128894-+129002:ZNF551 20001\n",
      "+1349-+1357:TRIM54 20000\n",
      "+135430-+135462:PAWR 20001\n",
      "+138656-+138740:WARS2 20000\n",
      "+148505-+148529:PARD3 20001\n",
      "+149272-+149297:ETV5 20000\n",
      "+1557-+1627:RELL1 20001\n",
      "+168335-+168337:ARID1A 20000\n",
      "+168344-+168385:ZDHHC11 20001\n",
      "+170021-+170064:PDXDC1 20000\n",
      "+175-+216:GLYCTK 20001\n",
      "+17844-+17872:NCALD 20000\n",
      "+19-+27:KCNJ5 20001\n",
      "+20183-+20191:USP25 20000\n",
      "+205467-+205579:DISC1 20001\n",
      "+206255-+206255:CACTIN 20000\n",
      "+2152-+2246:MST1 20001\n",
      "+2159-+2159:VIPR1 20000\n",
      "+224223-+224388:SULT1A2 20001\n",
      "+227129-+227149:ACOT1 20000\n",
      "+23295-+23305:TMEM140 20001\n",
      "+24327-+24369:ZNF561 20000\n",
      "+24540-+24554:SDHAP1 20001\n",
      "+2466-+2492:SIRPB1 20000\n",
      "+252498-+252565:HMG20A 20001\n",
      "+26306-+26397:SDHAP1 20000\n",
      "+30620-+30625:PDCD6 20001\n",
      "+30970-+30985:NCK1 20000\n",
      "+310640-+310663:S100B 20001\n",
      "+311675-+311778:CA11 20000\n",
      "+321860-+321920:TRIM31 20001\n",
      "+32678-+32744:GYPC 20000\n",
      "+328033-+328135:ADGRE1 20001\n",
      "+34444-+34451:ZNF665 20000\n",
      "+350566-+350585:SMIM8 20001\n",
      "+353-+394:TINAGL1 20000\n",
      "+35402-+35530:IRF6 20001\n",
      "+361799-+361849:EDC3 20000\n",
      "+377602-+377603:SPECC1 20001\n",
      "+377921-+377932:TMEM189 20000\n",
      "+38208-+38210:ERAP2 20001\n",
      "+38337-+38366:MUL1 20000\n",
      "+38990-+39000:SLC25A52 20001\n",
      "+426951-+426974:THADA 20000\n",
      "+441029-+441033:RTP4 20001\n",
      "+446794-+446838:IGF2 20000\n",
      "+451550-+451667:TMEM150B 20001\n",
      "+46129-+46129:FCGR2C 20000\n",
      "+464676-+464681:AFF4 20001\n",
      "+471747-+471747:CTNNBL1 20000\n",
      "+47265-+47272:SLC9A7 20001\n",
      "+4728-+4755:GSTT2 20000\n",
      "+477801-+477817:CXorf40A 20001\n",
      "+48828-+48974:DHX34 20001\n",
      "+496405-+496464:ISG20 20001\n",
      "+5048-+5228:APOBEC2 20001\n",
      "+5053-+5105:PLEKHM1 20001\n",
      "+51149-+51223:IL1A 20001\n",
      "+516264-+516272:ZNF155 20001\n",
      "+529473-+529558:CCL23 20001\n",
      "+544685-+544744:C2orf27A 20001\n",
      "+547294-+547337:C2orf27A 20001\n",
      "+579966-+579974:TBC1D2B 20001\n",
      "+59237-+59289:ZNF550 20001\n",
      "+605718-+605719:TMEM138 20001\n",
      "+66408-+66492:ZNF790 20001\n",
      "+67914-+68002:TIGD6 20001\n",
      "+69877-+69973:NSFL1C 20001\n",
      "+7496-+7531:FAM228B 20001\n",
      "+753-+784:NOMO2 20001\n",
      "+754705-+754733:LRRC4B 20001\n",
      "+781185-+781238:C3orf18 20001\n",
      "+820713-+820767:PGM5 20001\n",
      "+82104-+82146:SPESP1 20001\n",
      "+826924-+826988:METTL16 20001\n",
      "+8316-+8320:OPA3 20001\n",
      "+84-+84:IQUB 20001\n",
      "+857517-+857586:STX5 20001\n",
      "+87164-+87266:PLCG2 20001\n",
      "+891753-+891799:ZNF764 20001\n",
      "+90161-+90223:C6orf136 20001\n",
      "+929278-+929278:NR2F6 20001\n",
      "+95097-+95132:HYI 20001\n",
      "+97957-+97958:ADIPOR2 20001\n",
      "−106708-−106695:DUSP12 20001\n",
      "−109572-−109520:UCKL1 20001\n",
      "−114732-−114704:RARS2 20001\n",
      "−115798-−115779:ZNF622 20001\n",
      "−122715-−122671:GPER1 20001\n",
      "−12857-−12716:ZNF251 20001\n",
      "−133161-−133158:RTCA 20001\n",
      "−134187-−134176:NAT1 20001\n",
      "−13625-−13598:TC2N 20001\n",
      "−13647-−13581:GTF3C6 20001\n",
      "−137-−25:MASP1 20001\n",
      "−140262-−140218:RAB40A 20001\n",
      "−1415-−1358:INAFM1 20001\n",
      "−146211-−146048:NBPF1 20001\n",
      "−1475-−1465:HCG4B 20001\n",
      "−148244-−148202:CBLN2 20001\n",
      "−151976-−151976:NBPF1 20001\n",
      "−154145-−154111:JADE2 20001\n",
      "−157548-−157492:HMBS 20001\n",
      "−171556-−171538:RCSD1 20001\n",
      "−181-−116:ESR2 20001\n",
      "−18111-−18108:PLEKHG6 20001\n",
      "−18999-−18953:EXOC3 20001\n",
      "−19584-−19526:AKR1C1 20001\n",
      "−200112-−200107:MPC2 20001\n",
      "−2013-−2010:LRRC40 20001\n",
      "−202-−191:DAAM1 20001\n",
      "−21155-−21051:LGALS8 20001\n",
      "−213437-−213400:ACSM1 20001\n",
      "−23010-−22972:FCGR2C 20001\n",
      "−2434-−2332:TUBBP5 20001\n",
      "−24986-−24957:FUK 20001\n",
      "−251737-−251712:CDC23 20001\n",
      "−254171-−254163:SLC25A44 20001\n",
      "−26028-−26028:GFOD1 20001\n",
      "−264727-−264670:ZNF575 20001\n",
      "−267580-−267538:RUNX3 20001\n",
      "−27257-−27141:IQCE 20001\n",
      "−277187-−277103:BRD2 20001\n",
      "−28160-−28112:RNF126P1 20001\n",
      "−286286-−286179:TXNDC15 20001\n",
      "−296801-−296686:CCND2 20001\n",
      "−299635-−299556:SFRP4 20001\n"
     ]
    }
   ],
   "source": [
    "eQTL2bgpcc = {}\n",
    "for eQTL in eQTLs:\n",
    "    pcc = bg2contextcorr(eQTL)\n",
    "    print eQTL, np.count_nonzero(~np.isnan(pcc))\n",
    "    eQTL2bgpcc[eQTL] = np.nan_to_num(pcc)"
   ]
  },
  {
   "cell_type": "markdown",
   "metadata": {},
   "source": [
    "# Replication timing"
   ]
  },
  {
   "cell_type": "code",
   "execution_count": null,
   "metadata": {
    "collapsed": true
   },
   "outputs": [],
   "source": [
    "# Build the library of replication timing\n",
    "bin2reptime = {}\n",
    "fns = glob.glob('/cellar/users/wzhang1984/Data/replication_timing/*')\n",
    "for fn in fns:\n",
    "    print fn.split('/')[-1]\n",
    "    with open(fn) as f:\n",
    "        for line in f.read().rstrip().splitlines()[1:]:\n",
    "            row = line.split('\\t')\n",
    "            Chr = row[0]\n",
    "            Start = int(row[1])\n",
    "            End = int(row[2])\n",
    "            Ws = float(row[3])\n",
    "            start_end = '\\t'.join(row[1:3])\n",
    "            startBin = (Start-200)/binSize\n",
    "            endBin = (End+200)/binSize\n",
    "            for Bin in range(startBin, endBin+1):\n",
    "                chr_bin = '{}:{}'.format(Chr, Bin)\n",
    "                if chr_bin not in bin2reptime:\n",
    "                    bin2reptime[chr_bin] = {}\n",
    "                if start_end not in bin2reptime[chr_bin]:\n",
    "                    bin2reptime[chr_bin][start_end] = []\n",
    "                bin2reptime[chr_bin][start_end].append(Ws)"
   ]
  },
  {
   "cell_type": "code",
   "execution_count": null,
   "metadata": {
    "collapsed": true
   },
   "outputs": [],
   "source": [
    "def bg2reptime(eQTL):\n",
    "    \n",
    "    def pos2reptime(Chr, mid):\n",
    "        reptimes = []\n",
    "        startBin = (mid-200)/binSize\n",
    "        endBin = (mid+200)/binSize\n",
    "        for Bin in range(startBin, endBin+1):\n",
    "            chr_bin = '{}:{}'.format(Chr, Bin)\n",
    "            if chr_bin not in bin2reptime:\n",
    "                continue\n",
    "            for start_end in bin2reptime[chr_bin]:\n",
    "                [Start, End] = [int(i) for i in start_end.split('\\t')]\n",
    "                if mid>=Start and mid<=End:\n",
    "                    reptimes.extend(bin2reptime[chr_bin][start_end])\n",
    "        if reptimes == []:\n",
    "            return 0\n",
    "        else:\n",
    "            return np.mean(reptimes)\n",
    "    \n",
    "    [Chr, Start, End, mid, half_len, ann] = eQTL2info[eQTL]\n",
    "    eQTL_reptime = pos2reptime(Chr, mid)\n",
    "    reptime = [eQTL_reptime]\n",
    "    for bg in eQTL2bg[eQTL]:\n",
    "        [bgChr, bgMid] = bg\n",
    "        bg_reptime = pos2reptime(bgChr, bgMid)\n",
    "        reptime.append(bg_reptime)\n",
    "    return reptime"
   ]
  },
  {
   "cell_type": "code",
   "execution_count": null,
   "metadata": {
    "collapsed": true,
    "scrolled": true
   },
   "outputs": [],
   "source": [
    "eQTLs = sorted(eQTL2info.keys())\n",
    "\n",
    "n_processes = 16\n",
    "pool = Pool(processes=n_processes)\n",
    "\n",
    "reptimes = pool.map(bg2reptime, eQTLs)\n",
    "\n",
    "pool.close()\n",
    "pool.join()"
   ]
  },
  {
   "cell_type": "code",
   "execution_count": null,
   "metadata": {
    "collapsed": true
   },
   "outputs": [],
   "source": [
    "eQTL2bgreptime = {}\n",
    "for i in range(len(eQTLs)):\n",
    "    eQTL2bgreptime[eQTLs[i]] = reptimes[i]"
   ]
  },
  {
   "cell_type": "markdown",
   "metadata": {},
   "source": [
    "# gene expression"
   ]
  },
  {
   "cell_type": "code",
   "execution_count": null,
   "metadata": {
    "collapsed": true
   },
   "outputs": [],
   "source": [
    "# Write bed files and use Homer to find the nearest gene\n",
    "def bg2ann(eQTL):\n",
    "    [Chr, Start, End, mid, half_len, ann] = eQTL2info[eQTL]\n",
    "    Len = End - Start\n",
    "    line_out = '{}\\t{}\\t{}\\t{}\\t.\\t.\\n'.format(Chr, Start, End, eQTL)\n",
    "    for bg in eQTL2bg[eQTL]:\n",
    "        [bgChr, bgMid] = bg\n",
    "        bgStart = bgMid - half_len\n",
    "        bgEnd = bgStart + Len\n",
    "        line_out += '{}\\t{}\\t{}\\t{}:{}\\t.\\t.\\n'.format(bgChr, bgStart, bgEnd, bgChr, bgMid)\n",
    "        fn = 'tmp/{}_{}_{}_{}'.format(eQTL.split(':')[1], Chr, Start, End)\n",
    "    with open(fn, 'w') as f:\n",
    "        f.write(line_out)\n",
    "    os.system('annotatePeaks.pl {}  hg19 >{}.ann.txt'.format(fn, fn))\n",
    "    os.system('rm {}'.format(fn))"
   ]
  },
  {
   "cell_type": "code",
   "execution_count": null,
   "metadata": {
    "collapsed": true
   },
   "outputs": [],
   "source": [
    "eQTLs = sorted(eQTL2info.keys())\n",
    "\n",
    "n_processes = 8\n",
    "pool = Pool(processes=n_processes)\n",
    "\n",
    "pool.map(bg2ann, eQTLs)\n",
    "\n",
    "pool.close()\n",
    "pool.join()"
   ]
  },
  {
   "cell_type": "code",
   "execution_count": null,
   "metadata": {
    "collapsed": true
   },
   "outputs": [],
   "source": [
    "# Read gene expression\n",
    "df = pd.read_table('../eQTL_rev/pat2exp.txt', index_col=0)\n",
    "gene2exp = np.log2(df.clip(1/8.)).median(axis=1).to_dict()"
   ]
  },
  {
   "cell_type": "code",
   "execution_count": null,
   "metadata": {
    "collapsed": true,
    "scrolled": true
   },
   "outputs": [],
   "source": [
    "eQTL2bg_str = {}\n",
    "for eQTL in eQTL2bg:\n",
    "    eQTL2bg_str[eQTL] = []\n",
    "    for bg in eQTL2bg[eQTL]:\n",
    "        eQTL2bg_str[eQTL].append('{}:{}'.format(bg[0], bg[1]))\n",
    "    eQTL2bg_str[eQTL] = np.array(eQTL2bg_str[eQTL])"
   ]
  },
  {
   "cell_type": "code",
   "execution_count": null,
   "metadata": {
    "collapsed": true
   },
   "outputs": [],
   "source": [
    "def bg2exp(eQTL):\n",
    "    [Chr, Start, End, mid, half_len, ann] = eQTL2info[eQTL]\n",
    "    fn = 'tmp/{}_{}_{}_{}.ann.txt'.format(eQTL.split(':')[1], Chr, Start, End)\n",
    "    exp_list = [-3.] * (n_perm+1)\n",
    "    with open(fn) as f:\n",
    "        for line in f.read().rstrip().splitlines()[1:]:\n",
    "            row = line.split('\\t')\n",
    "            gene = row[-4]\n",
    "            exp = -3.\n",
    "            if gene in gene2exp:\n",
    "                exp = gene2exp[gene]\n",
    "            else:\n",
    "                continue\n",
    "            if row[0] == eQTL:\n",
    "                exp_list[0] = exp\n",
    "            else:\n",
    "                bg = row[0].split('-')[0]\n",
    "                indices = np.where(eQTL2bg_str[eQTL] == bg)[0]\n",
    "                for i in indices:\n",
    "                    exp_list[i+1] = exp\n",
    "    return exp_list"
   ]
  },
  {
   "cell_type": "code",
   "execution_count": null,
   "metadata": {
    "collapsed": true
   },
   "outputs": [],
   "source": [
    "eQTLs = sorted(eQTL2info.keys())\n",
    "\n",
    "n_processes = 8\n",
    "pool = Pool(processes=n_processes)\n",
    "\n",
    "exp_lists = pool.map(bg2exp, eQTLs)\n",
    "\n",
    "pool.close()\n",
    "pool.join()"
   ]
  },
  {
   "cell_type": "code",
   "execution_count": null,
   "metadata": {
    "collapsed": true
   },
   "outputs": [],
   "source": [
    "eQTL2bgexp = {}\n",
    "for i in range(len(eQTLs)):\n",
    "    eQTL2bgexp[eQTLs[i]] = exp_lists[i]"
   ]
  },
  {
   "cell_type": "markdown",
   "metadata": {},
   "source": [
    "# Select nearest bg sites of the eQTL in the feature space"
   ]
  },
  {
   "cell_type": "code",
   "execution_count": null,
   "metadata": {
    "collapsed": true
   },
   "outputs": [],
   "source": [
    "os.system('mkdir bg/')\n",
    "os.system('rm bg/*')"
   ]
  },
  {
   "cell_type": "code",
   "execution_count": 46,
   "metadata": {
    "collapsed": true
   },
   "outputs": [],
   "source": [
    "def select_bg(eQTL):\n",
    "    bg_list = [eQTL]\n",
    "    bg_list.extend(eQTL2bg_str[eQTL])\n",
    "    df = pd.DataFrame({'context': eQTL2bgpcc[eQTL], 'reptime': eQTL2bgreptime[eQTL], 'exp': eQTL2bgexp[eQTL]}, index=bg_list)\n",
    "    df_norm = ((df-df.mean())/df.std())\n",
    "    df['dist'] = ((df_norm-df_norm.loc[eQTL])**2).T.sum()\n",
    "    df = df.sort_values('dist').iloc[1:1001,:]\n",
    "    [Chr, Start, End, mid, half_len, ann] = eQTL2info[eQTL]\n",
    "    fn = '{}_{}_{}_{}'.format(eQTL.split(':')[1], Chr, Start, End)\n",
    "    df.to_csv('bg/{}.txt'.format(fn), sep='\\t')\n",
    "    return df"
   ]
  },
  {
   "cell_type": "code",
   "execution_count": 47,
   "metadata": {
    "collapsed": true
   },
   "outputs": [],
   "source": [
    "eQTLs = sorted(eQTL2info.keys())\n",
    "\n",
    "n_processes = 8\n",
    "pool = Pool(processes=n_processes)\n",
    "\n",
    "dfs = pool.map(select_bg, eQTLs)\n",
    "\n",
    "pool.close()\n",
    "pool.join()"
   ]
  },
  {
   "cell_type": "code",
   "execution_count": 48,
   "metadata": {
    "collapsed": true
   },
   "outputs": [],
   "source": [
    "eQTL2bgdf = {}\n",
    "for i in range(len(eQTLs)):\n",
    "    eQTL2bgdf[eQTLs[i]] = dfs[i]"
   ]
  },
  {
   "cell_type": "markdown",
   "metadata": {
    "collapsed": true
   },
   "source": [
    "# Load mutations"
   ]
  },
  {
   "cell_type": "code",
   "execution_count": null,
   "metadata": {
    "collapsed": true
   },
   "outputs": [],
   "source": [
    "del bin2ann, bin2reptime\n",
    "gc.collect()"
   ]
  },
  {
   "cell_type": "code",
   "execution_count": null,
   "metadata": {
    "collapsed": true,
    "scrolled": true
   },
   "outputs": [],
   "source": [
    "bin2mut = {}\n",
    "pats = set()\n",
    "print 'Reading mutations'\n",
    "cline = 0\n",
    "for line in open('input_muts_ICGC.txt'):\n",
    "    cline+=1\n",
    "    if cline%1000000 == 0:\n",
    "        print cline\n",
    "    row = line.rstrip().split('\\t')\n",
    "    Chr = 'chr' + row[0]\n",
    "    Start = int(row[1])\n",
    "    pat = row[-1]\n",
    "    pats.add(pat)\n",
    "    startBin = (Start-200)/binSize\n",
    "    endBin = (Start+200)/binSize\n",
    "    for Bin in range(startBin, endBin+1):\n",
    "        chr_bin='{}:{}'.format(Chr, Bin)\n",
    "        if chr_bin not in bin2mut:\n",
    "            bin2mut[chr_bin]=[]\n",
    "        bin2mut[chr_bin].append([Start, pat])"
   ]
  },
  {
   "cell_type": "markdown",
   "metadata": {
    "collapsed": true
   },
   "source": [
    "## Calculating mutation number and per-patient mutation probability for each eQTL"
   ]
  },
  {
   "cell_type": "code",
   "execution_count": 49,
   "metadata": {
    "collapsed": true
   },
   "outputs": [],
   "source": [
    "def eQTL2p(eQTL):\n",
    "    [Chr, Start, End, mid, half_len, ann] = eQTL2info[eQTL]\n",
    "    Len = End - Start\n",
    "    eQTL2pats = set()\n",
    "    startBin = (Start-200)/binSize\n",
    "    endBin = (End+200)/binSize\n",
    "    for Bin in range(startBin, endBin+1):\n",
    "        chr_bin = '{}:{}'.format(Chr, Bin)\n",
    "        for mut_pat in bin2mut[chr_bin]:\n",
    "            [mut, pat] = mut_pat\n",
    "            if mut>=Start and mut<=End:\n",
    "                eQTL2pats.add(pat)\n",
    "    n_pats = len(eQTL2pats)\n",
    "    \n",
    "    pat2bgp = {} # per-sample probability of mutation\n",
    "    for pat in pats:\n",
    "        pat2bgp[pat] = set()\n",
    "    nbg = len(eQTL2bgdf[eQTL].index)\n",
    "    for bg in eQTL2bgdf[eQTL].index:\n",
    "        [bgChr, bgMid] = bg.split(':')\n",
    "        bgMid = int(bgMid)\n",
    "        bgStart = bgMid - half_len\n",
    "        bgEnd = bgStart + Len\n",
    "        startBin = (bgStart-200)/binSize\n",
    "        endBin = (bgEnd+200)/binSize\n",
    "        for Bin in range(startBin, endBin+1):\n",
    "            chr_bin = '{}:{}'.format(bgChr, Bin)\n",
    "            if chr_bin not in bin2mut:\n",
    "                continue\n",
    "            for mut_pat in bin2mut[chr_bin]:\n",
    "                [mut, pat] = mut_pat\n",
    "                if mut>=bgStart and mut<=bgEnd:\n",
    "                    pat2bgp[pat].add(bg)\n",
    "    for pat in pat2bgp:\n",
    "        pat2bgp[pat] = len(pat2bgp[pat])/float(nbg)\n",
    "    \n",
    "    df = pd.DataFrame.from_dict(pat2bgp, orient='index')\n",
    "    df.columns = ['pr']\n",
    "    return (n_pats, df)\n"
   ]
  },
  {
   "cell_type": "code",
   "execution_count": 50,
   "metadata": {
    "collapsed": true
   },
   "outputs": [],
   "source": [
    "eQTLs = sorted(eQTL2info.keys())\n",
    "\n",
    "n_processes = 4\n",
    "pool = Pool(processes=n_processes)\n",
    "\n",
    "npats_df_list = pool.map(eQTL2p, eQTLs)\n",
    "\n",
    "pool.close()\n",
    "pool.join()"
   ]
  },
  {
   "cell_type": "code",
   "execution_count": 51,
   "metadata": {
    "collapsed": true
   },
   "outputs": [],
   "source": [
    "eQTL2npats = {}\n",
    "eQTL2pat2pr_df = {}\n",
    "for i in range(len(eQTLs)):\n",
    "    eQTL2npats[eQTLs[i]] = npats_df_list[i][0]\n",
    "    eQTL2pat2pr_df[eQTLs[i]] = npats_df_list[i][1]"
   ]
  },
  {
   "cell_type": "markdown",
   "metadata": {
    "collapsed": true
   },
   "source": [
    "# Calculating p-value using poibin\n",
    "https://github.com/tsakim/poibin"
   ]
  },
  {
   "cell_type": "code",
   "execution_count": 52,
   "metadata": {
    "collapsed": true
   },
   "outputs": [],
   "source": [
    "from poibin import PoiBin"
   ]
  },
  {
   "cell_type": "code",
   "execution_count": 53,
   "metadata": {},
   "outputs": [
    {
     "name": "stdout",
     "output_type": "stream",
     "text": [
      "+10021-+10079:P2RY13 0 1\n",
      "+101126-+101274:NFX1 3 0.139648123677\n",
      "+103408-+103582:NFX1 5 0.0202102129968\n",
      "+104494-+104535:PCDH1 3 0.00474270226885\n",
      "+111835-+111871:EXT1 1 0.251906521413\n",
      "+11212-+11313:FMO2 0 1\n",
      "+112150-+112150:UBE2C 0 1\n",
      "+112266-+112334:ARNT 0 1\n",
      "+117473-+117514:MECP2 0 1\n",
      "+11842-+11895:UNC93B1 4 0.00068145564505\n",
      "+1261-+1318:APOBEC3A 2 0.0884800245432\n",
      "+12614-+12656:BCAR3 4 0.000327864877159\n",
      "+128894-+129002:ZNF551 1 0.710034205723\n",
      "+1349-+1357:TRIM54 1 0.102432605537\n",
      "+135430-+135462:PAWR 0 1\n",
      "+138656-+138740:WARS2 3 0.131239645201\n",
      "+148505-+148529:PARD3 4 4.48588627534e-05\n",
      "+149272-+149297:ETV5 1 0.213539982021\n",
      "+1557-+1627:RELL1 0 1\n",
      "+168335-+168337:ARID1A 3 1.09983717757e-05\n",
      "+168344-+168385:ZDHHC11 4 0.000723709579426\n",
      "+170021-+170064:PDXDC1 1 0.355705116408\n",
      "+175-+216:GLYCTK 8 1.48986156745e-09\n",
      "+17844-+17872:NCALD 6 1.186497115e-07\n",
      "+19-+27:KCNJ5 7 5.25135490648e-13\n",
      "+20183-+20191:USP25 2 0.00158718396841\n",
      "+205467-+205579:DISC1 0 1\n",
      "+206255-+206255:CACTIN 1 0.003994003999\n",
      "+2152-+2246:MST1 12 4.17386125662e-11\n",
      "+2159-+2159:VIPR1 1 0.0129222852863\n",
      "+224223-+224388:SULT1A2 4 0.0763124390476\n",
      "+227129-+227149:ACOT1 0 1\n",
      "+23295-+23305:TMEM140 6 7.32779170676e-10\n",
      "+24327-+24369:ZNF561 2 0.0744007957478\n",
      "+24540-+24554:SDHAP1 2 0.00490571873877\n",
      "+2466-+2492:SIRPB1 1 0.196825105744\n",
      "+252498-+252565:HMG20A 1 0.454357760588\n",
      "+26306-+26397:SDHAP1 0 1\n",
      "+30620-+30625:PDCD6 3 6.3584033303e-06\n",
      "+30970-+30985:NCK1 4 6.04737843268e-06\n",
      "+310640-+310663:S100B 2 0.0201067181211\n",
      "+311675-+311778:CA11 6 0.000158040280068\n",
      "+321860-+321920:TRIM31 0 1\n",
      "+32678-+32744:GYPC 3 0.0581049138981\n",
      "+328033-+328135:ADGRE1 1 0.581694283617\n",
      "+34444-+34451:ZNF665 1 0.100656440221\n",
      "+350566-+350585:SMIM8 3 0.00042749180597\n",
      "+353-+394:TINAGL1 2 0.0252356518001\n",
      "+35402-+35530:IRF6 0 1\n",
      "+361799-+361849:EDC3 2 0.0568838515842\n",
      "+377602-+377603:SPECC1 0 1\n",
      "+377921-+377932:TMEM189 0 1\n",
      "+38208-+38210:ERAP2 4 1.46891639963e-08\n",
      "+38337-+38366:MUL1 4 0.000131089066219\n",
      "+38990-+39000:SLC25A52 1 0.0897682607789\n",
      "+426951-+426974:THADA 1 0.172329118233\n",
      "+441029-+441033:RTP4 2 0.000918077871609\n",
      "+446794-+446838:IGF2 9 4.38423541915e-09\n",
      "+451550-+451667:TMEM150B 2 0.391832722466\n",
      "+46129-+46129:FCGR2C 1 0.005985019985\n",
      "+464676-+464681:AFF4 0 1\n",
      "+471747-+471747:CTNNBL1 0 1\n",
      "+47265-+47272:SLC9A7 6 2.75205414013e-11\n",
      "+4728-+4755:GSTT2 0 1\n",
      "+477801-+477817:CXorf40A 0 1\n",
      "+48828-+48974:DHX34 1 0.727531240528\n",
      "+496405-+496464:ISG20 0 1\n",
      "+5048-+5228:APOBEC2 3 0.309463353319\n",
      "+5053-+5105:PLEKHM1 0 1\n",
      "+51149-+51223:IL1A 3 0.0189507712024\n",
      "+516264-+516272:ZNF155 9 -1.55431223448e-15\n",
      "+529473-+529558:CCL23 2 0.216084249253\n",
      "+544685-+544744:C2orf27A 6 0.000457459214769\n",
      "+547294-+547337:C2orf27A 1 0.489465596552\n",
      "+579966-+579974:TBC1D2B 1 0.0713794493088\n",
      "+59237-+59289:ZNF550 1 0.475490445425\n",
      "+605718-+605719:TMEM138 13 3.88578058619e-15\n",
      "+66408-+66492:ZNF790 3 0.179483794989\n",
      "+67914-+68002:TIGD6 1 0.509391572891\n",
      "+69877-+69973:NSFL1C 1 0.51367857105\n",
      "+7496-+7531:FAM228B 2 0.0390062383453\n",
      "+753-+784:NOMO2 1 0.242903454006\n",
      "+754705-+754733:LRRC4B 7 1.61156549217e-08\n",
      "+781185-+781238:C3orf18 3 0.0109447709382\n",
      "+820713-+820767:PGM5 0 1\n",
      "+82104-+82146:SPESP1 3 0.011143992207\n",
      "+826924-+826988:METTL16 18 -3.77475828373e-15\n",
      "+8316-+8320:OPA3 0 1\n",
      "+84-+84:IQUB 1 0.014895453638\n",
      "+857517-+857586:STX5 4 0.00201299786178\n",
      "+87164-+87266:PLCG2 0 1\n",
      "+891753-+891799:ZNF764 9 1.46453293937e-10\n",
      "+90161-+90223:C6orf136 5 0.000339290902384\n",
      "+929278-+929278:NR2F6 2 1.49600449724e-05\n",
      "+95097-+95132:HYI 28 -4.88498130835e-15\n",
      "+97957-+97958:ADIPOR2 0 1\n",
      "−106708-−106695:DUSP12 0 1\n",
      "−109572-−109520:UCKL1 5 7.753291881e-05\n",
      "−114732-−114704:RARS2 2 0.025224319781\n",
      "−115798-−115779:ZNF622 1 0.196020327776\n",
      "−122715-−122671:GPER1 3 0.0080980538953\n",
      "−12857-−12716:ZNF251 1 0.680702079499\n",
      "−133161-−133158:RTCA 21 -4.66293670343e-15\n",
      "−134187-−134176:NAT1 6 3.06142844408e-09\n",
      "−13625-−13598:TC2N 5 1.51993595987e-06\n",
      "−13647-−13581:GTF3C6 1 0.39563759251\n",
      "−137-−25:MASP1 5 0.00660430232789\n",
      "−140262-−140218:RAB40A 2 0.0778421205181\n",
      "−1415-−1358:INAFM1 2 0.0772760055732\n",
      "−146211-−146048:NBPF1 8 0.000279253890039\n",
      "−1475-−1465:HCG4B 0 1\n",
      "−148244-−148202:CBLN2 6 0.000194764937484\n",
      "−151976-−151976:NBPF1 3 2.0865402639e-07\n",
      "−154145-−154111:JADE2 0 1\n",
      "−157548-−157492:HMBS 2 0.0606112327233\n",
      "−171556-−171538:RCSD1 4 4.73682139268e-05\n",
      "−181-−116:ESR2 0 1\n",
      "−18111-−18108:PLEKHG6 0 1\n",
      "−18999-−18953:EXOC3 9 3.9552301434e-09\n",
      "−19584-−19526:AKR1C1 3 0.0208094134813\n",
      "−200112-−200107:MPC2 0 1\n",
      "−2013-−2010:LRRC40 0 1\n",
      "−202-−191:DAAM1 8 4.24171808788e-12\n",
      "−21155-−21051:LGALS8 2 0.28045576051\n",
      "−213437-−213400:ACSM1 0 1\n",
      "−23010-−22972:FCGR2C 5 6.76486000528e-06\n",
      "−2434-−2332:TUBBP5 3 0.126680474641\n",
      "−24986-−24957:FUK 1 0.182211650668\n",
      "−251737-−251712:CDC23 12 -1.99840144433e-15\n",
      "−254171-−254163:SLC25A44 0 1\n",
      "−26028-−26028:GFOD1 0 1\n",
      "−264727-−264670:ZNF575 1 0.47745548189\n",
      "−267580-−267538:RUNX3 18 -3.99680288865e-15\n",
      "−27257-−27141:IQCE 6 0.000757289707647\n",
      "−277187-−277103:BRD2 1 0.521150349206\n",
      "−28160-−28112:RNF126P1 0 1\n",
      "−286286-−286179:TXNDC15 2 0.169327819522\n",
      "−296801-−296686:CCND2 5 0.00940321212974\n",
      "−299635-−299556:SFRP4 9 8.113970551e-08\n",
      "−30054-−30027:ATP9A 3 0.0038012848947\n",
      "−305539-−305530:TSPAN32 0 1\n",
      "−319-−252:PDPR 6 1.29240928469e-05\n",
      "−32181-−32054:FAM69C 3 0.154138979939\n",
      "−346141-−346128:FAM66A 0 1\n",
      "−35456-−35289:UPK3B 13 2.95387347915e-09\n",
      "−356-−333:SDHAP2 0 1\n",
      "−356584-−356500:PDGFA 3 0.0367339370872\n",
      "−358045-−358013:SRGAP2 1 0.227571143059\n",
      "−365839-−365797:CA4 0 1\n",
      "−366671-−366628:SOCS5 0 1\n",
      "−369-−320:LIMS2 2 0.0487427783124\n",
      "−379072-−379013:FAU 5 9.49114902528e-05\n",
      "−39110-−39082:C1QTNF6 1 0.268309342346\n",
      "−402890-−402874:RDH13 1 0.126383425566\n",
      "−413682-−413672:SYN2 7 1.34514621664e-12\n",
      "−424468-−424424:SF3A2 6 3.12807513581e-06\n",
      "−45127-−45070:RAB3D 0 1\n",
      "−46444-−46444:CDC42 1 0.00797205593006\n",
      "−46746-−46725:ITGB4 10 8.881784197e-16\n",
      "−492492-−492443:CLEC4E 1 0.465806278439\n",
      "−510970-−510887:CA11 0 1\n",
      "−51710-−51608:AHRR 5 0.00476088788616\n",
      "−52060-−52060:TAS2R5 1 0.0119342195058\n",
      "−53421-−53224:DPY19L2P1 8 0.0113557485388\n",
      "−542407-−542270:USP32P2 1 0.691781502204\n",
      "−6338-−6326:MAPK13 3 0.000320608887024\n",
      "−65798-−65733:SIRT5 0 1\n",
      "−6633-−6576:CD40 3 0.0176991692173\n",
      "−67178-−67164:FCGR2C 2 0.00490409033087\n",
      "−67894-−67745:ENPP2 5 0.0221198584145\n",
      "−681910-−681862:PUM3 4 0.00300204034925\n",
      "−69-−61:MAP1S 9 -1.55431223448e-15\n",
      "−70607-−70402:HLTF 0 1\n",
      "−71678-−71678:IL12RB1 0 1\n",
      "−722743-−722615:ZNF44 1 0.619291358346\n",
      "−77027-−76992:DSTYK 3 0.00284275898859\n",
      "−775368-−775352:LYSMD1 3 0.00020960277781\n",
      "−78-−18:HLA-DRB1 6 2.36833034521e-05\n",
      "−795-−761:RLN2 6 4.02011450573e-07\n",
      "−803819-−803760:ZNF284 3 0.0235965179688\n",
      "−81119-−81108:PEX26 0 1\n",
      "−81161-−81101:ERBB4 5 0.00206960704967\n",
      "−81298-−81201:TBC1D20 11 1.34610000924e-09\n",
      "−869128-−869128:ZNF284 2 6.45813473176e-05\n",
      "−876032-−876024:HERC3 0 1\n",
      "−88481-−88457:CDC42 2 0.0265709027044\n",
      "−887841-−887760:ITFG2 6 7.15816678497e-05\n",
      "−91-+1:TERT 94 -2.26485497024e-14\n",
      "−963-−941:HSD17B6 1 0.155592153613\n",
      "−963-−949:C3orf18 0 1\n",
      "−97279-−97226:NOV 4 0.00934322334456\n",
      "−97983-−97929:RASA4 3 0.00889236723739\n",
      "−990-−980:PSMD12 0 1\n"
     ]
    }
   ],
   "source": [
    "line_out = ''\n",
    "for eQTL in eQTLs:\n",
    "    pb = PoiBin(list(eQTL2pat2pr_df[eQTL]['pr']))\n",
    "    p = pb.pval(eQTL2npats[eQTL])\n",
    "    print eQTL, eQTL2npats[eQTL], p\n",
    "    [Chr, Start, End, mid, half_len, ann] = eQTL2info[eQTL]\n",
    "    line_out += '{}\\t{}\\t{}\\t{}\\t{}\\t{}\\n'.format(eQTL, Chr, Start, End, eQTL2npats[eQTL], p)\n",
    "\n",
    "with open('eQTL2recurrent_p_ICGC.txt', 'w') as f:\n",
    "    f.write(line_out)"
   ]
  },
  {
   "cell_type": "code",
   "execution_count": null,
   "metadata": {
    "collapsed": true,
    "scrolled": true
   },
   "outputs": [],
   "source": []
  },
  {
   "cell_type": "code",
   "execution_count": null,
   "metadata": {
    "collapsed": true
   },
   "outputs": [],
   "source": []
  },
  {
   "cell_type": "code",
   "execution_count": null,
   "metadata": {
    "collapsed": true
   },
   "outputs": [],
   "source": []
  },
  {
   "cell_type": "code",
   "execution_count": null,
   "metadata": {
    "collapsed": true
   },
   "outputs": [],
   "source": []
  },
  {
   "cell_type": "code",
   "execution_count": null,
   "metadata": {
    "collapsed": true
   },
   "outputs": [],
   "source": []
  },
  {
   "cell_type": "code",
   "execution_count": null,
   "metadata": {
    "collapsed": true,
    "scrolled": true
   },
   "outputs": [],
   "source": []
  },
  {
   "cell_type": "code",
   "execution_count": null,
   "metadata": {
    "collapsed": true
   },
   "outputs": [],
   "source": []
  },
  {
   "cell_type": "code",
   "execution_count": null,
   "metadata": {
    "collapsed": true
   },
   "outputs": [],
   "source": []
  },
  {
   "cell_type": "code",
   "execution_count": null,
   "metadata": {
    "collapsed": true
   },
   "outputs": [],
   "source": []
  }
 ],
 "metadata": {
  "kernelspec": {
   "display_name": "Python 2",
   "language": "python",
   "name": "python2"
  },
  "language_info": {
   "codemirror_mode": {
    "name": "ipython",
    "version": 2
   },
   "file_extension": ".py",
   "mimetype": "text/x-python",
   "name": "python",
   "nbconvert_exporter": "python",
   "pygments_lexer": "ipython2",
   "version": "2.7.13"
  }
 },
 "nbformat": 4,
 "nbformat_minor": 2
}
